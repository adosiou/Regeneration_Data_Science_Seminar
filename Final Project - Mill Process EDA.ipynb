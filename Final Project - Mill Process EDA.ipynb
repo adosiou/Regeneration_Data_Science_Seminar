{
  "cells": [
    {
      "cell_type": "markdown",
      "source": [
        "# Installing Packages / Importing Libraries"
      ],
      "metadata": {
        "id": "42HgRYq3C4Nz"
      },
      "id": "42HgRYq3C4Nz"
    },
    {
      "cell_type": "code",
      "source": [
        "pip install missingno"
      ],
      "metadata": {
        "id": "lpGvFGqT-V00"
      },
      "id": "lpGvFGqT-V00",
      "execution_count": null,
      "outputs": []
    },
    {
      "cell_type": "code",
      "execution_count": null,
      "id": "31bef6be",
      "metadata": {
        "id": "31bef6be"
      },
      "outputs": [],
      "source": [
        "import pandas as pd\n",
        "import numpy as np\n",
        "\n",
        "import matplotlib.pyplot as plt\n",
        "import seaborn as sns\n",
        "\n",
        "import missingno as msno"
      ]
    },
    {
      "cell_type": "markdown",
      "source": [
        "# Importing Data"
      ],
      "metadata": {
        "id": "ogPzwUkF3l_Z"
      },
      "id": "ogPzwUkF3l_Z"
    },
    {
      "cell_type": "code",
      "execution_count": null,
      "id": "55572489",
      "metadata": {
        "id": "55572489"
      },
      "outputs": [],
      "source": [
        "df1 = pd.read_csv('May.csv', delimiter=';', encoding='cp1252' , header=0, skiprows=[1] , index_col=[0])\n",
        "df2 = pd.read_csv('June.csv', delimiter=';', encoding='cp1252' , header=0, skiprows=[1] , index_col=[0])\n",
        "df3 = pd.read_csv('July.csv', delimiter=';', encoding='cp1252', header=0, skiprows=[1] , index_col=[0])\n",
        "df4 = pd.read_csv('August.csv', delimiter=';', encoding='cp1252', header=0, skiprows=[1] , index_col=[0])\n",
        "df5 = pd.read_csv('September.csv', delimiter=';', encoding='cp1252', header=0, skiprows=[1] , index_col=[0])\n",
        "df6 = pd.read_csv('October.csv', delimiter=';', encoding='cp1252', header=0, skiprows=[1] , index_col=[0])"
      ]
    },
    {
      "cell_type": "markdown",
      "source": [
        "**July's dataframe has 131 features in contrast to the other dataframes which have 95 to 99 features, some of them with almost identical labels but different values.**"
      ],
      "metadata": {
        "id": "xk0ILmbGyRAo"
      },
      "id": "xk0ILmbGyRAo"
    },
    {
      "cell_type": "code",
      "source": [
        "df3"
      ],
      "metadata": {
        "id": "26-p1iO1vSN4"
      },
      "id": "26-p1iO1vSN4",
      "execution_count": null,
      "outputs": []
    },
    {
      "cell_type": "markdown",
      "source": [
        "The different columns that July's dataframe has."
      ],
      "metadata": {
        "id": "LBCy_Gba08Oq"
      },
      "id": "LBCy_Gba08Oq"
    },
    {
      "cell_type": "code",
      "source": [
        "diff_col = []\n",
        "for col in df3.columns:\n",
        "  if col not in df1.columns:\n",
        "    diff_col = diff_col + [col]\n",
        "diff_col"
      ],
      "metadata": {
        "id": "Nokg0vbJufwA"
      },
      "id": "Nokg0vbJufwA",
      "execution_count": null,
      "outputs": []
    },
    {
      "cell_type": "markdown",
      "source": [
        "Exploring columns with similar named features."
      ],
      "metadata": {
        "id": "fRsHch7D1cy6"
      },
      "id": "fRsHch7D1cy6"
    },
    {
      "cell_type": "code",
      "source": [
        "df3[df3['mill_in_pres_mbar_pv'] != df3['mill_in_press_mbar_pv']][['mill_in_pres_mbar_pv','mill_in_press_mbar_pv']].sample(20)"
      ],
      "metadata": {
        "id": "ThVh7urGwUkb"
      },
      "id": "ThVh7urGwUkb",
      "execution_count": null,
      "outputs": []
    },
    {
      "cell_type": "markdown",
      "source": [
        "Concatenating the dataframes and dropping id column."
      ],
      "metadata": {
        "id": "UVtbbHwY2BdM"
      },
      "id": "UVtbbHwY2BdM"
    },
    {
      "cell_type": "code",
      "execution_count": null,
      "id": "142482aa",
      "metadata": {
        "id": "142482aa"
      },
      "outputs": [],
      "source": [
        "dataframes = [df1, df2, df3, df4, df5, df6]\n",
        "\n",
        "# Concatenate the DataFrames along the rows (axis=0)\n",
        "df = pd.concat(dataframes, axis=0, ignore_index=True)\n",
        "\n",
        "df = df.drop(columns='_id')"
      ]
    },
    {
      "cell_type": "code",
      "source": [
        "df.replace({'ERROR' : np.NaN}, inplace=True)"
      ],
      "metadata": {
        "id": "Dsm63htlqRDX"
      },
      "id": "Dsm63htlqRDX",
      "execution_count": null,
      "outputs": []
    },
    {
      "cell_type": "code",
      "source": [
        "df"
      ],
      "metadata": {
        "id": "Ijx1iBhIu2az"
      },
      "id": "Ijx1iBhIu2az",
      "execution_count": null,
      "outputs": []
    },
    {
      "cell_type": "markdown",
      "source": [
        "# Mill Operation"
      ],
      "metadata": {
        "id": "nmnb7OX13zLm"
      },
      "id": "nmnb7OX13zLm"
    },
    {
      "cell_type": "code",
      "source": [
        "df['mill_motor_pwr_kw_pv'].value_counts()"
      ],
      "metadata": {
        "id": "setP1D3eiIc8"
      },
      "id": "setP1D3eiIc8",
      "execution_count": null,
      "outputs": []
    },
    {
      "cell_type": "code",
      "source": [
        "df['mill_motor_pwr_kw_pv'].dtype"
      ],
      "metadata": {
        "id": "VFFPLBc2iLbR"
      },
      "id": "VFFPLBc2iLbR",
      "execution_count": null,
      "outputs": []
    },
    {
      "cell_type": "code",
      "source": [
        "df['mill_motor_pwr_kw_pv'] = df['mill_motor_pwr_kw_pv'].astype(float)"
      ],
      "metadata": {
        "id": "NSCpABunlEeb"
      },
      "id": "NSCpABunlEeb",
      "execution_count": null,
      "outputs": []
    },
    {
      "cell_type": "code",
      "source": [
        "sns.distplot(df['mill_motor_pwr_kw_pv'])\n",
        "\n",
        "plt.xlabel('Mill Motor (kW)')"
      ],
      "metadata": {
        "id": "sY4dhV7slTfj"
      },
      "id": "sY4dhV7slTfj",
      "execution_count": null,
      "outputs": []
    },
    {
      "cell_type": "code",
      "source": [
        "#number of missing values\n",
        "df['mill_motor_pwr_kw_pv'].isna().sum()"
      ],
      "metadata": {
        "id": "cCm9pSr6-7El"
      },
      "id": "cCm9pSr6-7El",
      "execution_count": null,
      "outputs": []
    },
    {
      "cell_type": "code",
      "source": [
        "#changing random missing values during normal mill operation\n",
        "df = df.interpolate(limit=2, limit_direction=\"forward\")"
      ],
      "metadata": {
        "id": "3sStjs476Q-A"
      },
      "id": "3sStjs476Q-A",
      "execution_count": null,
      "outputs": []
    },
    {
      "cell_type": "code",
      "source": [
        "#continuously missing values\n",
        "df['mill_motor_pwr_kw_pv'].isna().sum()"
      ],
      "metadata": {
        "id": "x1qOWl9I_JR9"
      },
      "id": "x1qOWl9I_JR9",
      "execution_count": null,
      "outputs": []
    },
    {
      "cell_type": "code",
      "source": [
        "msno.matrix(df[['mill_motor_pwr_kw_pv']],figsize=(2,5))"
      ],
      "metadata": {
        "id": "bVVbOQDh_jQz"
      },
      "id": "bVVbOQDh_jQz",
      "execution_count": null,
      "outputs": []
    },
    {
      "cell_type": "code",
      "source": [
        "df['mill_operation'].isna().sum()"
      ],
      "metadata": {
        "id": "SWhtJ2VSCRXe"
      },
      "id": "SWhtJ2VSCRXe",
      "execution_count": null,
      "outputs": []
    },
    {
      "cell_type": "code",
      "source": [
        "df['mill_operation'].interpolate(limit=2, limit_direction='forward', method='ffill', inplace=True)"
      ],
      "metadata": {
        "id": "OWYjTKcUER5Z"
      },
      "id": "OWYjTKcUER5Z",
      "execution_count": null,
      "outputs": []
    },
    {
      "cell_type": "code",
      "source": [
        "df['mill_operation'].isna().sum() # same as mill motor missing values"
      ],
      "metadata": {
        "id": "izzAXcP5FGdK"
      },
      "id": "izzAXcP5FGdK",
      "execution_count": null,
      "outputs": []
    },
    {
      "cell_type": "code",
      "source": [
        "df.dropna(subset=['mill_operation','mill_motor_pwr_kw_pv'], inplace=True)"
      ],
      "metadata": {
        "id": "q9obeMxtJU63"
      },
      "id": "q9obeMxtJU63",
      "execution_count": null,
      "outputs": []
    },
    {
      "cell_type": "code",
      "source": [
        "#drop missing values for mill operation and mill motor\n",
        "df['mill_operation'].isna().sum() , df['mill_motor_pwr_kw_pv'].isna().sum()"
      ],
      "metadata": {
        "id": "dY__7OaBJgaX"
      },
      "id": "dY__7OaBJgaX",
      "execution_count": null,
      "outputs": []
    },
    {
      "cell_type": "code",
      "source": [
        "df['mill_operation'] = df['mill_operation'].astype(float)"
      ],
      "metadata": {
        "id": "_I8pkXm-LUP-"
      },
      "id": "_I8pkXm-LUP-",
      "execution_count": null,
      "outputs": []
    },
    {
      "cell_type": "markdown",
      "source": [
        "**Replacing zeros with NaN in order to interpolate and visualize off periods.**"
      ],
      "metadata": {
        "id": "aYT5YX56LVkI"
      },
      "id": "aYT5YX56LVkI"
    },
    {
      "cell_type": "code",
      "source": [
        "#replacing zeros with NaN in order to use interpolate\n",
        "df['mill_operation'].replace({0.0 : np.NaN}, inplace=True)"
      ],
      "metadata": {
        "id": "QhPwscRsMoRk"
      },
      "id": "QhPwscRsMoRk",
      "execution_count": null,
      "outputs": []
    },
    {
      "cell_type": "code",
      "source": [
        "#replacing random zeros in 1 minute intervals\n",
        "df['mill_operation'].interpolate(limit=2, limit_direction='forward', method='ffill', inplace=True)"
      ],
      "metadata": {
        "id": "oo3flyeXM892"
      },
      "id": "oo3flyeXM892",
      "execution_count": null,
      "outputs": []
    },
    {
      "cell_type": "code",
      "source": [
        "df['mill_operation'].isna().sum()"
      ],
      "metadata": {
        "id": "GWMbXYsjNKen"
      },
      "id": "GWMbXYsjNKen",
      "execution_count": null,
      "outputs": []
    },
    {
      "cell_type": "code",
      "source": [
        "msno.matrix(df[['mill_operation']],figsize=(2,5))"
      ],
      "metadata": {
        "id": "bi02zv7rNfJG"
      },
      "id": "bi02zv7rNfJG",
      "execution_count": null,
      "outputs": []
    },
    {
      "cell_type": "code",
      "source": [
        "#distribution of mill motor after deleting mill operation = 0 values\n",
        "sns.distplot(df[df['mill_operation']==1]['mill_motor_pwr_kw_pv'])\n",
        "\n",
        "plt.xlabel('Mill Motor (kW)')"
      ],
      "metadata": {
        "id": "nGt5TM5hOCJ5"
      },
      "id": "nGt5TM5hOCJ5",
      "execution_count": null,
      "outputs": []
    },
    {
      "cell_type": "code",
      "source": [
        "df = df[df['mill_operation']==1]\n",
        "df.reset_index(drop=True,inplace=True)"
      ],
      "metadata": {
        "id": "2dS6LTjoQLR7"
      },
      "id": "2dS6LTjoQLR7",
      "execution_count": null,
      "outputs": []
    },
    {
      "cell_type": "markdown",
      "source": [
        "**The length of dataframe after deleting the off period measurements is 349883 rows**"
      ],
      "metadata": {
        "id": "jxvDzBw2MxW2"
      },
      "id": "jxvDzBw2MxW2"
    },
    {
      "cell_type": "code",
      "source": [
        "len(df)"
      ],
      "metadata": {
        "id": "h05Vzmu8deHW"
      },
      "id": "h05Vzmu8deHW",
      "execution_count": null,
      "outputs": []
    },
    {
      "cell_type": "code",
      "source": [
        "# df = df[(df['mill_motor_pwr_kw_pv'] > 250) & (df['mill_motor_pwr_kw_pv'] < 1750)]\n",
        "# df = df.reset_index(drop=True)\n",
        "\n",
        "# sns.distplot(df['mill_motor_pwr_kw_pv'])"
      ],
      "metadata": {
        "id": "g3dXK_PkgRXE"
      },
      "id": "g3dXK_PkgRXE",
      "execution_count": null,
      "outputs": []
    },
    {
      "cell_type": "code",
      "source": [
        "(df['mill_motor_pwr_kw_pv'].dtype , df['mill_motor_pwr_kw_pv'].isna().sum())"
      ],
      "metadata": {
        "id": "CPNniaJw8QOm"
      },
      "id": "CPNniaJw8QOm",
      "execution_count": null,
      "outputs": []
    },
    {
      "cell_type": "markdown",
      "source": [
        "# Total Feed missing values handling"
      ],
      "metadata": {
        "id": "Jvr2RBEyYsfA"
      },
      "id": "Jvr2RBEyYsfA"
    },
    {
      "cell_type": "code",
      "source": [
        "df[['total_feed_ton/h_pv','total_feed_ton_h_pv']]"
      ],
      "metadata": {
        "id": "rDKQTc4qY0Db"
      },
      "id": "rDKQTc4qY0Db",
      "execution_count": null,
      "outputs": []
    },
    {
      "cell_type": "code",
      "source": [
        "# missing values of two columns\n",
        "df['total_feed_ton/h_pv'].isna().sum() , df['total_feed_ton_h_pv'].isna().sum()"
      ],
      "metadata": {
        "id": "CSLNR6lYZz3G"
      },
      "id": "CSLNR6lYZz3G",
      "execution_count": null,
      "outputs": []
    },
    {
      "cell_type": "code",
      "source": [
        "df['total_feed_ton/h_pv'].replace({'ERROR' : np.NaN}, inplace=True)"
      ],
      "metadata": {
        "id": "uSRcKBI2ax3A"
      },
      "id": "uSRcKBI2ax3A",
      "execution_count": null,
      "outputs": []
    },
    {
      "cell_type": "code",
      "source": [
        "#filling missing values from duplicated column\n",
        "df['total_feed_ton_h_pv'] = df['total_feed_ton_h_pv'].fillna(df['total_feed_ton/h_pv'])"
      ],
      "metadata": {
        "id": "FlqjwtfuaXmW"
      },
      "id": "FlqjwtfuaXmW",
      "execution_count": null,
      "outputs": []
    },
    {
      "cell_type": "code",
      "source": [
        "df['total_feed_ton_h_pv'].isna().sum()"
      ],
      "metadata": {
        "id": "u2T_gHEbaoM-"
      },
      "id": "u2T_gHEbaoM-",
      "execution_count": null,
      "outputs": []
    },
    {
      "cell_type": "code",
      "source": [
        "df = df.drop(columns=['total_feed_ton/h_pv'])"
      ],
      "metadata": {
        "id": "AtXTnrhZbi4x"
      },
      "id": "AtXTnrhZbi4x",
      "execution_count": null,
      "outputs": []
    },
    {
      "cell_type": "code",
      "source": [
        "df['total_feed_ton_h_pv'].interpolate(method='ffill', inplace=True)"
      ],
      "metadata": {
        "id": "U-7N8EUHcnhY"
      },
      "id": "U-7N8EUHcnhY",
      "execution_count": null,
      "outputs": []
    },
    {
      "cell_type": "code",
      "source": [
        "df['total_feed_ton_h_pv'].isna().sum()"
      ],
      "metadata": {
        "id": "O3pNXZzeevAD"
      },
      "id": "O3pNXZzeevAD",
      "execution_count": null,
      "outputs": []
    },
    {
      "cell_type": "code",
      "source": [
        "df['total_feed_ton_h_pv'] = df['total_feed_ton_h_pv'].astype(float)"
      ],
      "metadata": {
        "id": "sHiSb6XXfPqI"
      },
      "id": "sHiSb6XXfPqI",
      "execution_count": null,
      "outputs": []
    },
    {
      "cell_type": "code",
      "source": [
        "plt.figure(figsize=(8,6))\n",
        "\n",
        "sns.distplot(df[df['cement_type_cpii_bool_pv']==1]['total_feed_ton_h_pv'],label='CPII')\n",
        "\n",
        "sns.distplot(df[df['cement_type_cpiv_bool_pv']==1]['total_feed_ton_h_pv'],label='CPIV')\n",
        "\n",
        "plt.legend()"
      ],
      "metadata": {
        "id": "tY-7FdSqf_U2"
      },
      "id": "tY-7FdSqf_U2",
      "execution_count": null,
      "outputs": []
    },
    {
      "cell_type": "markdown",
      "source": [
        "**It seems that there is a difference in total feeding supply for the two cement types.**"
      ],
      "metadata": {
        "id": "anIJgTmdH61f"
      },
      "id": "anIJgTmdH61f"
    },
    {
      "cell_type": "markdown",
      "id": "406eca2e",
      "metadata": {
        "id": "406eca2e"
      },
      "source": [
        "# Datetime Format"
      ]
    },
    {
      "cell_type": "code",
      "execution_count": null,
      "id": "06dee109",
      "metadata": {
        "id": "06dee109"
      },
      "outputs": [],
      "source": [
        "# Import the 're' module for working with regular expressions\n",
        "import re\n",
        "\n",
        "# Retrieve the 'date' values from 'august' DataFrame where the value does not start with '2019'\n",
        "date1 = df[~df['date'].str.startswith('2019')]['date']\n",
        "\n",
        "# Retrieve the 'date' values from 'august' DataFrame where the value starts with '2019'\n",
        "date2 = df[df['date'].str.startswith('2019')]['date']\n",
        "\n",
        "# Randomly sample 20 values from 'date1'\n",
        "date1.sample(20)"
      ]
    },
    {
      "cell_type": "code",
      "execution_count": null,
      "id": "e0f02575",
      "metadata": {
        "id": "e0f02575"
      },
      "outputs": [],
      "source": [
        "# Modify the 'date1' values by adding a leading '0' to the hour component if it's missing\n",
        "date1 = date1.apply(lambda s: re.sub(r'(\\d{1,2}\\/\\d{1}\\/\\d{4})\\s(\\d{1}:\\d{2})', r'\\1 0\\2', s))\n",
        "\n",
        "# Add a leading '0' to the 'date1' values if they match a specific date and time format\n",
        "date1 = date1.apply(lambda s: '0' + s[0:] if re.match('\\d{1}\\/\\d{1}\\/\\d{4}\\s\\d{2}:\\d{2}', s) else s)\n",
        "\n",
        "# Modify the 'date1' values by adding a leading '0' to the day component if it's missing\n",
        "date1 = date1.apply(lambda s: s[0:3] + '0' + s[3:] if re.match('\\d{2}\\/\\d{1}\\/\\d{4}\\s\\d{2}:\\d{2}', s) else s)\n",
        "\n",
        "# Convert the modified 'date1' values to datetime format with the specified format '%d/%m/%Y %H:%M'\n",
        "date1 = pd.to_datetime(date1, format='%d/%m/%Y %H:%M')"
      ]
    },
    {
      "cell_type": "code",
      "execution_count": null,
      "id": "72db92c7",
      "metadata": {
        "id": "72db92c7"
      },
      "outputs": [],
      "source": [
        "date2 = pd.to_datetime(date2,format='%Y-%m-%d %H:%M:%S.%f')\n",
        "date2"
      ]
    },
    {
      "cell_type": "code",
      "execution_count": null,
      "id": "2a7fe658",
      "metadata": {
        "id": "2a7fe658"
      },
      "outputs": [],
      "source": [
        "df['date'] = pd.concat([date1,date2])\n",
        "df['date']"
      ]
    },
    {
      "cell_type": "markdown",
      "source": [
        "**Datetime formatted and sorted.**"
      ],
      "metadata": {
        "id": "Mrwln8v9Ij1X"
      },
      "id": "Mrwln8v9Ij1X"
    },
    {
      "cell_type": "code",
      "source": [
        "df['date'].is_monotonic_increasing"
      ],
      "metadata": {
        "id": "0fhRH-kbz5Ru"
      },
      "id": "0fhRH-kbz5Ru",
      "execution_count": null,
      "outputs": []
    },
    {
      "cell_type": "code",
      "source": [
        "df['index'] = df.index[:]"
      ],
      "metadata": {
        "id": "dSoXcVvO3EWz"
      },
      "id": "dSoXcVvO3EWz",
      "execution_count": null,
      "outputs": []
    },
    {
      "cell_type": "code",
      "source": [
        "df = df.sort_values(['date','index'])"
      ],
      "metadata": {
        "id": "qpUDmYLq4OoQ"
      },
      "id": "qpUDmYLq4OoQ",
      "execution_count": null,
      "outputs": []
    },
    {
      "cell_type": "code",
      "source": [
        "df['date'].is_monotonic_increasing"
      ],
      "metadata": {
        "id": "RoVa09Si4VcS"
      },
      "id": "RoVa09Si4VcS",
      "execution_count": null,
      "outputs": []
    },
    {
      "cell_type": "code",
      "source": [
        "df.reset_index(drop=True,inplace=True)"
      ],
      "metadata": {
        "id": "LKWAMHiS4Z3F"
      },
      "id": "LKWAMHiS4Z3F",
      "execution_count": null,
      "outputs": []
    },
    {
      "cell_type": "code",
      "source": [
        "df.drop(columns='index',inplace=True)"
      ],
      "metadata": {
        "id": "t2pbgmrz4em9"
      },
      "id": "t2pbgmrz4em9",
      "execution_count": null,
      "outputs": []
    },
    {
      "cell_type": "code",
      "source": [
        "df['date'] = df['date'].round('s')"
      ],
      "metadata": {
        "id": "wYLe8QCdURHp"
      },
      "id": "wYLe8QCdURHp",
      "execution_count": null,
      "outputs": []
    },
    {
      "cell_type": "code",
      "source": [
        "df['date']"
      ],
      "metadata": {
        "id": "5qu2H4FuUkN7"
      },
      "id": "5qu2H4FuUkN7",
      "execution_count": null,
      "outputs": []
    },
    {
      "cell_type": "code",
      "source": [
        "from datetime import timedelta\n",
        "\n",
        "for i in range(len(df)-1):\n",
        "  if df.loc[i+1,'date'] == df.loc[i,'date']:\n",
        "    df.loc[i+1,'date'] = df.loc[i+1,'date'] + timedelta(seconds=30)"
      ],
      "metadata": {
        "id": "1roRm-78Um9x"
      },
      "id": "1roRm-78Um9x",
      "execution_count": null,
      "outputs": []
    },
    {
      "cell_type": "code",
      "source": [
        "df['date'].duplicated().sum()"
      ],
      "metadata": {
        "id": "btmYOP7pU4As"
      },
      "id": "btmYOP7pU4As",
      "execution_count": null,
      "outputs": []
    },
    {
      "cell_type": "code",
      "source": [
        "df['index'] = df.index[:]\n",
        "df = df.sort_values(['date','index'])"
      ],
      "metadata": {
        "id": "ljNtfeDnY_Hx"
      },
      "id": "ljNtfeDnY_Hx",
      "execution_count": null,
      "outputs": []
    },
    {
      "cell_type": "code",
      "source": [
        "df.reset_index(drop=True,inplace=True)\n",
        "df.drop(columns='index',inplace=True)"
      ],
      "metadata": {
        "id": "bQC4ZGtEZJZy"
      },
      "id": "bQC4ZGtEZJZy",
      "execution_count": null,
      "outputs": []
    },
    {
      "cell_type": "markdown",
      "id": "60c44f34",
      "metadata": {
        "id": "60c44f34"
      },
      "source": [
        "# Handling Separator Motor ERRORS and Missing Values"
      ]
    },
    {
      "cell_type": "code",
      "source": [
        "df['separator_pwr_kw_pv'].dtype"
      ],
      "metadata": {
        "id": "I86Wjjlj6L2u"
      },
      "id": "I86Wjjlj6L2u",
      "execution_count": null,
      "outputs": []
    },
    {
      "cell_type": "code",
      "source": [
        "#missing values\n",
        "df['separator_pwr_kw_pv'].isna().sum()"
      ],
      "metadata": {
        "id": "6FcoCz83q58m"
      },
      "id": "6FcoCz83q58m",
      "execution_count": null,
      "outputs": []
    },
    {
      "cell_type": "code",
      "source": [
        "#errors\n",
        "(df['separator_pwr_kw_pv'] == 'ERROR').sum()"
      ],
      "metadata": {
        "id": "PUOy7qGlrZXd"
      },
      "id": "PUOy7qGlrZXd",
      "execution_count": null,
      "outputs": []
    },
    {
      "cell_type": "code",
      "source": [
        "df['separator_pwr_kw_pv'] = df['separator_pwr_kw_pv'].replace({'ERROR' : np.NaN})"
      ],
      "metadata": {
        "id": "uzHZEzKU5w78"
      },
      "id": "uzHZEzKU5w78",
      "execution_count": null,
      "outputs": []
    },
    {
      "cell_type": "code",
      "source": [
        "df['separator_pwr_kw_pv'] = df['separator_pwr_kw_pv'].astype(float)"
      ],
      "metadata": {
        "id": "MCgpjVjB6r03"
      },
      "id": "MCgpjVjB6r03",
      "execution_count": null,
      "outputs": []
    },
    {
      "cell_type": "code",
      "source": [
        "df['separator_pwr_kw_pv'] = df['separator_pwr_kw_pv'].interpolate()"
      ],
      "metadata": {
        "id": "MagWVsMr54ZU"
      },
      "id": "MagWVsMr54ZU",
      "execution_count": null,
      "outputs": []
    },
    {
      "cell_type": "code",
      "source": [
        "sns.distplot(df['separator_pwr_kw_pv'])"
      ],
      "metadata": {
        "id": "cZ8Hl_HQrMfD"
      },
      "id": "cZ8Hl_HQrMfD",
      "execution_count": null,
      "outputs": []
    },
    {
      "cell_type": "code",
      "source": [
        "plt.figure(figsize = (20,8))\n",
        "\n",
        "plt.scatter(df['date'],df['separator_pwr_kw_pv'])\n",
        "plt.xlabel('Month')\n",
        "plt.ylabel('Separator Motor KW')"
      ],
      "metadata": {
        "id": "jrKBaRyusE_6"
      },
      "id": "jrKBaRyusE_6",
      "execution_count": null,
      "outputs": []
    },
    {
      "cell_type": "code",
      "source": [
        "df[df['separator_pwr_kw_pv'] < 40]['separator_pwr_kw_pv'].count()"
      ],
      "metadata": {
        "id": "hNUFdzuFseNa"
      },
      "id": "hNUFdzuFseNa",
      "execution_count": null,
      "outputs": []
    },
    {
      "cell_type": "code",
      "source": [
        "df['separator_pwr_kw_pv'] = df['separator_pwr_kw_pv'].apply(lambda x: np.NaN if x < 40 or x > 140 else x)\n"
      ],
      "metadata": {
        "id": "zU-Q7lB0tp2r"
      },
      "id": "zU-Q7lB0tp2r",
      "execution_count": null,
      "outputs": []
    },
    {
      "cell_type": "code",
      "source": [
        "df['separator_pwr_kw_pv'] = df['separator_pwr_kw_pv'].interpolate(method='linear')"
      ],
      "metadata": {
        "id": "qDLJKrQTvo1Q"
      },
      "id": "qDLJKrQTvo1Q",
      "execution_count": null,
      "outputs": []
    },
    {
      "cell_type": "code",
      "source": [
        "plt.figure(figsize = (20,8))\n",
        "\n",
        "plt.scatter(df['date'],df['separator_pwr_kw_pv'],c='blue')\n",
        "plt.xlabel('Month')\n",
        "plt.ylabel('Separator Motor KW')"
      ],
      "metadata": {
        "id": "bJC7uftMwLV_"
      },
      "id": "bJC7uftMwLV_",
      "execution_count": null,
      "outputs": []
    },
    {
      "cell_type": "code",
      "source": [
        "(df['separator_pwr_kw_pv'].dtypes , df['separator_pwr_kw_pv'].isna().sum())"
      ],
      "metadata": {
        "id": "7x5XOevd8ixG"
      },
      "id": "7x5XOevd8ixG",
      "execution_count": null,
      "outputs": []
    },
    {
      "cell_type": "markdown",
      "id": "0ee62838",
      "metadata": {
        "id": "0ee62838"
      },
      "source": [
        "# Separator Speed , Mill DP Handling Missing Values and ERRORS"
      ]
    },
    {
      "cell_type": "markdown",
      "source": [
        "**Separator Speed**"
      ],
      "metadata": {
        "id": "5hOzIiMX2HNM"
      },
      "id": "5hOzIiMX2HNM"
    },
    {
      "cell_type": "code",
      "source": [
        "df['separator_speed_rpm_pv'].dtype"
      ],
      "metadata": {
        "id": "WuQYygbhxw19"
      },
      "id": "WuQYygbhxw19",
      "execution_count": null,
      "outputs": []
    },
    {
      "cell_type": "code",
      "source": [
        "(df['separator_speed_rpm_pv'] == 'ERROR').sum() # same ERRORS as separator motor"
      ],
      "metadata": {
        "id": "hRBCqASnzDE4"
      },
      "id": "hRBCqASnzDE4",
      "execution_count": null,
      "outputs": []
    },
    {
      "cell_type": "code",
      "source": [
        "df['separator_speed_rpm_pv'].replace({'ERROR' : np.NaN},inplace=True)"
      ],
      "metadata": {
        "id": "8TVyfBUzx7ER"
      },
      "id": "8TVyfBUzx7ER",
      "execution_count": null,
      "outputs": []
    },
    {
      "cell_type": "code",
      "source": [
        "df['separator_speed_rpm_pv'] = df['separator_speed_rpm_pv'].astype(float)"
      ],
      "metadata": {
        "id": "FRwHXV580pt1"
      },
      "id": "FRwHXV580pt1",
      "execution_count": null,
      "outputs": []
    },
    {
      "cell_type": "code",
      "source": [
        "df['separator_speed_rpm_pv'].isna().sum()"
      ],
      "metadata": {
        "id": "Xw68jkmzy2js"
      },
      "id": "Xw68jkmzy2js",
      "execution_count": null,
      "outputs": []
    },
    {
      "cell_type": "code",
      "source": [
        "df['separator_speed_rpm_pv'] = df['separator_speed_rpm_pv'].interpolate()"
      ],
      "metadata": {
        "id": "Ds_il9LmUnbg"
      },
      "id": "Ds_il9LmUnbg",
      "execution_count": null,
      "outputs": []
    },
    {
      "cell_type": "code",
      "source": [
        "sns.distplot(df['separator_speed_rpm_pv'])"
      ],
      "metadata": {
        "id": "7_wW3kAuB7PY"
      },
      "id": "7_wW3kAuB7PY",
      "execution_count": null,
      "outputs": []
    },
    {
      "cell_type": "code",
      "source": [
        "(df['separator_speed_rpm_pv'].dtypes , df['separator_speed_rpm_pv'].isna().sum())"
      ],
      "metadata": {
        "id": "FICSeKSl2oa4"
      },
      "id": "FICSeKSl2oa4",
      "execution_count": null,
      "outputs": []
    },
    {
      "cell_type": "code",
      "source": [
        "len(df)"
      ],
      "metadata": {
        "id": "T2F3N9ujQYUf"
      },
      "id": "T2F3N9ujQYUf",
      "execution_count": null,
      "outputs": []
    },
    {
      "cell_type": "code",
      "source": [
        "sns.violinplot(df['separator_speed_rpm_pv'])"
      ],
      "metadata": {
        "id": "6ocClkzAQiOf"
      },
      "id": "6ocClkzAQiOf",
      "execution_count": null,
      "outputs": []
    },
    {
      "cell_type": "markdown",
      "source": [
        "**Mill DP**"
      ],
      "metadata": {
        "id": "dDcARYHg2Lad"
      },
      "id": "dDcARYHg2Lad"
    },
    {
      "cell_type": "code",
      "source": [
        "df['mill_dp_mbar_pv'].dtype"
      ],
      "metadata": {
        "id": "kRbd8Jpe2XfZ"
      },
      "id": "kRbd8Jpe2XfZ",
      "execution_count": null,
      "outputs": []
    },
    {
      "cell_type": "code",
      "execution_count": null,
      "id": "1e0aa521",
      "metadata": {
        "id": "1e0aa521"
      },
      "outputs": [],
      "source": [
        "df['mill_dp_mbar_pv'].isna().sum() "
      ]
    },
    {
      "cell_type": "code",
      "source": [
        "(df['mill_dp_mbar_pv'] == 'ERROR').sum() # same as separator motor and speed"
      ],
      "metadata": {
        "id": "yyy22S9kSziN"
      },
      "id": "yyy22S9kSziN",
      "execution_count": null,
      "outputs": []
    },
    {
      "cell_type": "code",
      "source": [
        "df['mill_dp_mbar_pv'].replace({'ERROR' : np.NaN},inplace=True)"
      ],
      "metadata": {
        "id": "E9TE4dNp7Tv6"
      },
      "id": "E9TE4dNp7Tv6",
      "execution_count": null,
      "outputs": []
    },
    {
      "cell_type": "code",
      "source": [
        "msno.matrix(df[['mill_dp_mbar_pv']], figsize=(2,5))"
      ],
      "metadata": {
        "id": "NZ1xWUgZUqRo"
      },
      "id": "NZ1xWUgZUqRo",
      "execution_count": null,
      "outputs": []
    },
    {
      "cell_type": "code",
      "source": [
        "df['mill_dp_mbar_pv'] = df['mill_dp_mbar_pv'].astype(float)"
      ],
      "metadata": {
        "id": "MQVwuMCd7edY"
      },
      "id": "MQVwuMCd7edY",
      "execution_count": null,
      "outputs": []
    },
    {
      "cell_type": "code",
      "source": [
        "df['mill_dp_mbar_pv'] = df['mill_dp_mbar_pv'].interpolate()"
      ],
      "metadata": {
        "id": "hPqN64uv7jHO"
      },
      "id": "hPqN64uv7jHO",
      "execution_count": null,
      "outputs": []
    },
    {
      "cell_type": "code",
      "source": [
        "sns.distplot(df['mill_dp_mbar_pv'])"
      ],
      "metadata": {
        "id": "9-hfsLE-2xRh"
      },
      "id": "9-hfsLE-2xRh",
      "execution_count": null,
      "outputs": []
    },
    {
      "cell_type": "code",
      "source": [
        "(df['mill_dp_mbar_pv'].dtypes , df['mill_dp_mbar_pv'].isna().sum())"
      ],
      "metadata": {
        "id": "v-wnTff287IQ"
      },
      "id": "v-wnTff287IQ",
      "execution_count": null,
      "outputs": []
    },
    {
      "cell_type": "markdown",
      "id": "54f4ad98",
      "metadata": {
        "id": "54f4ad98"
      },
      "source": [
        "#  Separator Motor KW for different cement types."
      ]
    },
    {
      "cell_type": "code",
      "source": [
        "plt.figure(figsize=(20,8))\n",
        "\n",
        "plt.scatter(df[df['cement_type_cpii_bool_pv'] == 1]['date'],df[df['cement_type_cpii_bool_pv'] == 1]['separator_pwr_kw_pv'])\n",
        "plt.scatter(df[df['cement_type_cpii_bool_pv'] == 0]['date'],df[df['cement_type_cpii_bool_pv'] == 0]['separator_pwr_kw_pv'])"
      ],
      "metadata": {
        "id": "Psb-8h_EiP-l"
      },
      "id": "Psb-8h_EiP-l",
      "execution_count": null,
      "outputs": []
    },
    {
      "cell_type": "markdown",
      "source": [
        "# Exploring Distribution of certain features."
      ],
      "metadata": {
        "id": "1Z8dXgnf-ewp"
      },
      "id": "1Z8dXgnf-ewp"
    },
    {
      "cell_type": "code",
      "source": [
        "plt.figure(figsize=(15,5))\n",
        "\n",
        "plt.subplot(121)\n",
        "sns.distplot(df[df['separator_speed_rpm_pv'] < 600]['separator_pwr_kw_pv'])\n",
        "plt.title('Separator Motor Distribution for Separator Speed < 600 rpm')\n",
        "\n",
        "plt.subplot(122)\n",
        "sns.distplot(df[df['separator_speed_rpm_pv'] > 600]['separator_pwr_kw_pv'])\n",
        "plt.title('Separator Motor Distribution for Separator Speed > 600 rpm')\n",
        "\n",
        "plt.suptitle('Separator Motor Distr splitted by Separator Speed')"
      ],
      "metadata": {
        "id": "UL0zsHdA-qKe"
      },
      "id": "UL0zsHdA-qKe",
      "execution_count": null,
      "outputs": []
    },
    {
      "cell_type": "code",
      "source": [
        "plt.figure(figsize=(15,5))\n",
        "\n",
        "plt.subplot(121)\n",
        "sns.distplot(df[df['separator_speed_rpm_pv'] < 600]['mill_motor_pwr_kw_pv'])\n",
        "plt.title('Mill Motor Distribution for Separator Speed < 600 rpm')\n",
        "\n",
        "plt.subplot(122)\n",
        "sns.distplot(df[df['separator_speed_rpm_pv'] > 600]['mill_motor_pwr_kw_pv'])\n",
        "plt.title('Mill Motor Distribution for Separator Speed > 600 rpm')\n",
        "\n",
        "plt.suptitle('Mill Motor Distr splitted by Separator Speed')"
      ],
      "metadata": {
        "id": "W_mkrhlL-26s"
      },
      "id": "W_mkrhlL-26s",
      "execution_count": null,
      "outputs": []
    },
    {
      "cell_type": "code",
      "source": [
        "plt.figure(figsize=(15,5))\n",
        "\n",
        "plt.subplot(121)\n",
        "sns.distplot(df[df['cement_type_cpii_bool_pv'] == 1]['separator_pwr_kw_pv'])\n",
        "plt.title('Separator Motor Distribution for CPII')\n",
        "plt.xlabel('Separator Motor (kW)')\n",
        "\n",
        "plt.subplot(122)\n",
        "sns.distplot(df[df['cement_type_cpii_bool_pv'] == 0]['separator_pwr_kw_pv'])\n",
        "plt.title('Separator Motor Distribution for CPIV')\n",
        "plt.xlabel('Separator Motor (kW)')"
      ],
      "metadata": {
        "id": "zZzJYY_HFPvZ"
      },
      "id": "zZzJYY_HFPvZ",
      "execution_count": null,
      "outputs": []
    },
    {
      "cell_type": "markdown",
      "source": [
        "**Identically distributed separator and mill motor for different cement types**"
      ],
      "metadata": {
        "id": "Xmb4iDAMWak7"
      },
      "id": "Xmb4iDAMWak7"
    },
    {
      "cell_type": "markdown",
      "source": [
        "**Possible Time Delay**"
      ],
      "metadata": {
        "id": "L-ODIc00EFQj"
      },
      "id": "L-ODIc00EFQj"
    },
    {
      "cell_type": "code",
      "source": [
        "# from scipy import signal\n",
        "# x = df['separator_speed_rpm_pv']\n",
        "# y = df['separator_pwr_kw_pv']\n",
        "# correlation = signal.correlate(x-np.mean(x), y - np.mean(y), mode=\"full\")\n",
        "# lags = signal.correlation_lags(len(x), len(y), mode=\"full\")\n",
        "# lag = lags[np.argmax(abs(correlation))]\n",
        "# lag"
      ],
      "metadata": {
        "id": "MNOZxxR2DMwA"
      },
      "id": "MNOZxxR2DMwA",
      "execution_count": null,
      "outputs": []
    },
    {
      "cell_type": "markdown",
      "source": [
        "# Smoothing TimeSeries of Mill Motor"
      ],
      "metadata": {
        "id": "ec88ka1GKZz7"
      },
      "id": "ec88ka1GKZz7"
    },
    {
      "cell_type": "code",
      "source": [
        "plt.figure(figsize=(20,8))\n",
        "\n",
        "fig, ax1 = plt.subplots(figsize=(20,8))\n",
        "\n",
        "ax1.plot(df[df['date'] > '2019-10-29']['date'],df[df['date'] > '2019-10-29']['mill_motor_pwr_kw_pv'])\n",
        "\n",
        "\n",
        "ax2=ax1.twinx()\n",
        "\n",
        "ax2.plot(df[df['date'] > '2019-10-29']['date'],df[df['date'] > '2019-10-29']['separator_speed_rpm_pv'],color='red')"
      ],
      "metadata": {
        "id": "TSoUPC3-iY1O"
      },
      "id": "TSoUPC3-iY1O",
      "execution_count": null,
      "outputs": []
    },
    {
      "cell_type": "code",
      "source": [
        "plt.plot(df['separator_speed_rpm_pv'])"
      ],
      "metadata": {
        "id": "rnsbo-iwmSJh"
      },
      "id": "rnsbo-iwmSJh",
      "execution_count": null,
      "outputs": []
    },
    {
      "cell_type": "code",
      "source": [
        "sns.distplot(df[(df['separator_speed_rpm_pv']>500) & (df['separator_speed_rpm_pv']<800)]['mill_motor_pwr_kw_pv'])"
      ],
      "metadata": {
        "id": "gN4aP6U6m02G"
      },
      "id": "gN4aP6U6m02G",
      "execution_count": null,
      "outputs": []
    },
    {
      "cell_type": "markdown",
      "source": [
        "# Stopping periods of Mill"
      ],
      "metadata": {
        "id": "OSDYoXKrMvU2"
      },
      "id": "OSDYoXKrMvU2"
    },
    {
      "cell_type": "code",
      "source": [
        "from pandas.core.arrays.timedeltas import Timedelta\n",
        "from pandas.core.groupby.groupby import Timestamp"
      ],
      "metadata": {
        "id": "PifIiW4SLeo9"
      },
      "id": "PifIiW4SLeo9",
      "execution_count": null,
      "outputs": []
    },
    {
      "cell_type": "code",
      "source": [
        "df.loc[0,'stopping_period_interval'] = Timedelta(0)"
      ],
      "metadata": {
        "id": "Cg3jmVL7M3uL"
      },
      "id": "Cg3jmVL7M3uL",
      "execution_count": null,
      "outputs": []
    },
    {
      "cell_type": "code",
      "source": [
        "for i in range(len(df)-1):\n",
        "  df.loc[i+1,'stopping_period_interval'] = df.loc[i+1,'date'] - df.loc[i,'date']"
      ],
      "metadata": {
        "id": "PdLAkByWNDVF"
      },
      "id": "PdLAkByWNDVF",
      "execution_count": null,
      "outputs": []
    },
    {
      "cell_type": "code",
      "source": [
        "df['stopping_period_interval'].sort_values(ascending=False).head(300)"
      ],
      "metadata": {
        "id": "JhTOUiLVNuNv"
      },
      "id": "JhTOUiLVNuNv",
      "execution_count": null,
      "outputs": []
    },
    {
      "cell_type": "code",
      "source": [
        "df"
      ],
      "metadata": {
        "id": "aAjqUfQxOewB"
      },
      "id": "aAjqUfQxOewB",
      "execution_count": null,
      "outputs": []
    },
    {
      "cell_type": "markdown",
      "source": [
        "# Cement Type Changing"
      ],
      "metadata": {
        "id": "uaVYoNlTFdDA"
      },
      "id": "uaVYoNlTFdDA"
    },
    {
      "cell_type": "code",
      "source": [
        "df['cement_type_cpii_bool_pv'].value_counts()"
      ],
      "metadata": {
        "id": "xW3iuY0TFNmc"
      },
      "id": "xW3iuY0TFNmc",
      "execution_count": null,
      "outputs": []
    },
    {
      "cell_type": "code",
      "source": [
        "df['cement_type_cpii_bool_pv'].replace({'ERROR' : np.NaN}, inplace=True)"
      ],
      "metadata": {
        "id": "3YAr8sa5Fsj8"
      },
      "id": "3YAr8sa5Fsj8",
      "execution_count": null,
      "outputs": []
    },
    {
      "cell_type": "code",
      "source": [
        "df['cement_type_cpii_bool_pv'].isna().sum()"
      ],
      "metadata": {
        "id": "R3Dn2PPYFxni"
      },
      "id": "R3Dn2PPYFxni",
      "execution_count": null,
      "outputs": []
    },
    {
      "cell_type": "code",
      "source": [
        "df = df.dropna(subset=['cement_type_cpii_bool_pv'])\n",
        "df.reset_index(inplace=True,drop=True)"
      ],
      "metadata": {
        "id": "OzwJbh3DG5I8"
      },
      "id": "OzwJbh3DG5I8",
      "execution_count": null,
      "outputs": []
    },
    {
      "cell_type": "code",
      "source": [
        "df['cement_type_cpii_bool_pv'] = df['cement_type_cpii_bool_pv'].astype(float)"
      ],
      "metadata": {
        "id": "BIibZWCDHQSE"
      },
      "id": "BIibZWCDHQSE",
      "execution_count": null,
      "outputs": []
    },
    {
      "cell_type": "code",
      "source": [
        "df['cement_type_cpii_bool_pv'].isna().sum()"
      ],
      "metadata": {
        "id": "RPb7rjj9H5q8"
      },
      "id": "RPb7rjj9H5q8",
      "execution_count": null,
      "outputs": []
    },
    {
      "cell_type": "code",
      "source": [
        "df['cement_type_cpii_bool_pv'].value_counts()"
      ],
      "metadata": {
        "id": "vZPuM-zJJZ1E"
      },
      "id": "vZPuM-zJJZ1E",
      "execution_count": null,
      "outputs": []
    },
    {
      "cell_type": "code",
      "source": [
        "# cement type change boolean \n",
        "df.loc[0,'change_cement_type_boolean'] = 0\n",
        "for i in range(len(df)-1):\n",
        "  df.loc[i+1,'change_cement_type_boolean'] = abs(df.loc[i+1,'cement_type_cpii_bool_pv'] - df.loc[i,'cement_type_cpii_bool_pv'])"
      ],
      "metadata": {
        "id": "AvVwwXOOndCy"
      },
      "id": "AvVwwXOOndCy",
      "execution_count": null,
      "outputs": []
    },
    {
      "cell_type": "code",
      "source": [
        "df['change_cement_type_boolean'].value_counts()"
      ],
      "metadata": {
        "id": "Z6hQW90ZnhUm"
      },
      "id": "Z6hQW90ZnhUm",
      "execution_count": null,
      "outputs": []
    },
    {
      "cell_type": "markdown",
      "source": [
        "**We have 179 changes of cement type during 6 month milling process**"
      ],
      "metadata": {
        "id": "ifiBHXTUyZT5"
      },
      "id": "ifiBHXTUyZT5"
    },
    {
      "cell_type": "markdown",
      "source": [
        "# Stopping periods for cement type change"
      ],
      "metadata": {
        "id": "xuvkxWt9Or6L"
      },
      "id": "xuvkxWt9Or6L"
    },
    {
      "cell_type": "markdown",
      "source": [
        "It seems that cement type change in the mill can be performed instantly! "
      ],
      "metadata": {
        "id": "pcepnb_OfnKe"
      },
      "id": "pcepnb_OfnKe"
    },
    {
      "cell_type": "code",
      "source": [
        "df[df['change_cement_type_boolean'] == 1]['stopping_period_interval'].sort_values(ascending=False)"
      ],
      "metadata": {
        "id": "xlIsN5w1OxVl"
      },
      "id": "xlIsN5w1OxVl",
      "execution_count": null,
      "outputs": []
    },
    {
      "cell_type": "code",
      "source": [
        "df[df['change_cement_type_boolean'] == 1]['stopping_period_interval'].value_counts()"
      ],
      "metadata": {
        "id": "YtHldZfzZ6cd"
      },
      "id": "YtHldZfzZ6cd",
      "execution_count": null,
      "outputs": []
    },
    {
      "cell_type": "markdown",
      "source": [
        "# Starting periods of mill"
      ],
      "metadata": {
        "id": "L0w5I2bWgM44"
      },
      "id": "L0w5I2bWgM44"
    },
    {
      "cell_type": "code",
      "source": [
        "df['stopping_period_interval'].sort_values(ascending=False)[117268]"
      ],
      "metadata": {
        "id": "Nnk0i1OVgSZM"
      },
      "id": "Nnk0i1OVgSZM",
      "execution_count": null,
      "outputs": []
    },
    {
      "cell_type": "code",
      "source": [
        "plt.plot(df.loc[117268:117330]['mill_motor_pwr_kw_pv'])\n",
        "plt.plot(df.loc[117268:117330]['separator_speed_rpm_pv'])"
      ],
      "metadata": {
        "id": "B7dYg0y7gZD_"
      },
      "id": "B7dYg0y7gZD_",
      "execution_count": null,
      "outputs": []
    },
    {
      "cell_type": "code",
      "source": [
        "plt.plot(df.loc[117268:117330]['total_feed_ton_h_pv'])"
      ],
      "metadata": {
        "id": "FurmzOOOk1T5"
      },
      "id": "FurmzOOOk1T5",
      "execution_count": null,
      "outputs": []
    },
    {
      "cell_type": "markdown",
      "source": [
        "**Trying to define normal operation conditions with respect to total feed and separator speed short-term stability.**"
      ],
      "metadata": {
        "id": "dzx_lrPQkluz"
      },
      "id": "dzx_lrPQkluz"
    },
    {
      "cell_type": "code",
      "source": [
        "df['stopping_period_interval'].sort_values(ascending=False)[56824]"
      ],
      "metadata": {
        "id": "VmfMgzH_g7Kk"
      },
      "id": "VmfMgzH_g7Kk",
      "execution_count": null,
      "outputs": []
    },
    {
      "cell_type": "code",
      "source": [
        "plt.plot(df.loc[56824:57000]['mill_motor_pwr_kw_pv'])\n",
        "plt.plot(df.loc[56824:57000]['separator_speed_rpm_pv'])"
      ],
      "metadata": {
        "id": "g7WXzyY3h8Xy"
      },
      "id": "g7WXzyY3h8Xy",
      "execution_count": null,
      "outputs": []
    },
    {
      "cell_type": "code",
      "source": [
        "plt.plot(df.loc[56824:57000]['total_feed_ton_h_pv'])"
      ],
      "metadata": {
        "id": "mzy8lXONkwPz"
      },
      "id": "mzy8lXONkwPz",
      "execution_count": null,
      "outputs": []
    },
    {
      "cell_type": "code",
      "source": [
        "dfc = df.copy()"
      ],
      "metadata": {
        "id": "5Hi_WwgsjhFG"
      },
      "id": "5Hi_WwgsjhFG",
      "execution_count": null,
      "outputs": []
    },
    {
      "cell_type": "code",
      "source": [
        "dfc.loc[56824:57000]['total_feed_ton_h_pv'].rolling(10).mean()"
      ],
      "metadata": {
        "id": "9rZIu2ocnMEZ"
      },
      "id": "9rZIu2ocnMEZ",
      "execution_count": null,
      "outputs": []
    },
    {
      "cell_type": "code",
      "source": [
        "dfc.loc[56824:57000]['total_feed_ton_h_pv']"
      ],
      "metadata": {
        "id": "ciDxOYuOpE9l"
      },
      "id": "ciDxOYuOpE9l",
      "execution_count": null,
      "outputs": []
    },
    {
      "cell_type": "code",
      "source": [
        "dfc.loc[56824:57000]['total_feed_ton_h_pv'].rolling(10).std()"
      ],
      "metadata": {
        "id": "9wmcmPI2pRpa"
      },
      "id": "9wmcmPI2pRpa",
      "execution_count": null,
      "outputs": []
    },
    {
      "cell_type": "code",
      "source": [
        "dfc['total_feed_rolling_avg_ton_h'] = dfc['total_feed_ton_h_pv'].rolling(10).mean()"
      ],
      "metadata": {
        "id": "xMUi7e-Wq7zb"
      },
      "id": "xMUi7e-Wq7zb",
      "execution_count": null,
      "outputs": []
    },
    {
      "cell_type": "code",
      "source": [
        "dfc['total_feed_rolling_std_ton_h'] = dfc['total_feed_ton_h_pv'].rolling(10).std()"
      ],
      "metadata": {
        "id": "7eHAlsQsrpTQ"
      },
      "id": "7eHAlsQsrpTQ",
      "execution_count": null,
      "outputs": []
    },
    {
      "cell_type": "code",
      "source": [
        "dfc['separator_speed_rolling_std_rpm'] = dfc['separator_speed_rpm_pv'].rolling(10).std()"
      ],
      "metadata": {
        "id": "bXCBOQzkzU93"
      },
      "id": "bXCBOQzkzU93",
      "execution_count": null,
      "outputs": []
    },
    {
      "cell_type": "code",
      "source": [
        "plt.plot(dfc[(dfc['total_feed_rolling_std_ton_h'] < 4) & (dfc['separator_speed_rolling_std_rpm'] < 4) & (dfc['date'] > '2019-09-10') & (dfc['date'] < '2019-09-11')]['total_feed_ton_h_pv'])"
      ],
      "metadata": {
        "id": "VA237yWNzhXt"
      },
      "id": "VA237yWNzhXt",
      "execution_count": null,
      "outputs": []
    },
    {
      "cell_type": "code",
      "source": [
        "sns.distplot(dfc[(dfc['total_feed_rolling_std_ton_h'] < 3) & (dfc['separator_speed_rolling_std_rpm'] < 3)]['mill_motor_pwr_kw_pv'])\n",
        "\n",
        "plt.xlabel('Mill Motor (kW)')"
      ],
      "metadata": {
        "id": "G8Oe4p130Pxl"
      },
      "id": "G8Oe4p130Pxl",
      "execution_count": null,
      "outputs": []
    },
    {
      "cell_type": "code",
      "source": [
        "plt.figure(figsize=(15,8))\n",
        "\n",
        "x = dfc[(dfc['total_feed_rolling_std_ton_h'] < 3) & (dfc['separator_speed_rolling_std_rpm'] < 3)]['date']\n",
        "y = dfc[(dfc['total_feed_rolling_std_ton_h'] < 3) & (dfc['separator_speed_rolling_std_rpm'] < 3)]['mill_motor_pwr_kw_pv']\n",
        "\n",
        "plt.scatter(x,y)"
      ],
      "metadata": {
        "id": "sXIlVQUUGJ3-"
      },
      "id": "sXIlVQUUGJ3-",
      "execution_count": null,
      "outputs": []
    },
    {
      "cell_type": "code",
      "source": [
        "dfc[dfc['date'] > '2019-07-26']['mill_motor_pwr_kw_pv'].mean()"
      ],
      "metadata": {
        "id": "zRQpgdf545Yh"
      },
      "id": "zRQpgdf545Yh",
      "execution_count": null,
      "outputs": []
    },
    {
      "cell_type": "code",
      "source": [
        "dfc[dfc['date'] < '2019-07-26']['mill_motor_pwr_kw_pv'].mean()"
      ],
      "metadata": {
        "id": "WuAI_W065Ib1"
      },
      "id": "WuAI_W065Ib1",
      "execution_count": null,
      "outputs": []
    },
    {
      "cell_type": "code",
      "source": [
        "plt.figure(figsize=(15,8))\n",
        "\n",
        "y = dfc[(dfc['mill_motor_pwr_kw_pv'] > 750) & (dfc['mill_motor_pwr_kw_pv'] < 1500)]['mill_motor_pwr_kw_pv']\n",
        "x = dfc[(dfc['mill_motor_pwr_kw_pv'] > 750) & (dfc['mill_motor_pwr_kw_pv'] < 1500)]['date']\n",
        "\n",
        "plt.scatter(x,y)"
      ],
      "metadata": {
        "id": "8htgMbLHHRPO"
      },
      "id": "8htgMbLHHRPO",
      "execution_count": null,
      "outputs": []
    },
    {
      "cell_type": "code",
      "source": [
        "plt.figure(figsize=(20,8))\n",
        "\n",
        "fig, ax1 = plt.subplots(figsize=(20,8))\n",
        "\n",
        "ax1.plot(dfc[(dfc['total_feed_rolling_std_ton_h'] < 3) & (dfc['separator_speed_rolling_std_rpm'] < 3) & (dfc['date'] > '2019-09-01') & (dfc['date'] < '2019-09-10')]['separator_pwr_kw_pv'])\n",
        "\n",
        "ax2 = ax1.twinx()\n",
        "\n",
        "ax2.plot(dfc[(dfc['total_feed_rolling_std_ton_h'] < 3) & (dfc['separator_speed_rolling_std_rpm'] < 3) & (dfc['date'] > '2019-09-01') & (dfc['date'] < '2019-09-10')]['separator_speed_rpm_pv'],color='red')"
      ],
      "metadata": {
        "id": "UPNPHQcrR73c"
      },
      "id": "UPNPHQcrR73c",
      "execution_count": null,
      "outputs": []
    },
    {
      "cell_type": "markdown",
      "source": [
        "**Keeping at the original dataframe values with std < 4 around the mean value of 5 minutes ahead.**"
      ],
      "metadata": {
        "id": "cNlpD_eSqSHI"
      },
      "id": "cNlpD_eSqSHI"
    },
    {
      "cell_type": "code",
      "source": [
        "dfc['total_feed_rolling_avg_ton_h'] = dfc['total_feed_ton_h_pv'].rolling(10).mean()"
      ],
      "metadata": {
        "id": "JU0ut6M0qRd4"
      },
      "id": "JU0ut6M0qRd4",
      "execution_count": null,
      "outputs": []
    },
    {
      "cell_type": "code",
      "source": [
        "dfc['total_feed_rolling_std_ton_h'] = dfc['total_feed_ton_h_pv'].rolling(10).std()"
      ],
      "metadata": {
        "id": "RWM8mwHRvSB5"
      },
      "id": "RWM8mwHRvSB5",
      "execution_count": null,
      "outputs": []
    },
    {
      "cell_type": "code",
      "source": [
        "dfc['separator_speed_rolling_std_rpm'] = dfc['separator_speed_rpm_pv'].rolling(10).std()"
      ],
      "metadata": {
        "id": "ySOyasSfvc3f"
      },
      "id": "ySOyasSfvc3f",
      "execution_count": null,
      "outputs": []
    },
    {
      "cell_type": "code",
      "source": [
        "dfc = dfc[(dfc['total_feed_rolling_std_ton_h'] < 3) & (dfc['separator_speed_rolling_std_rpm'] < 4)]"
      ],
      "metadata": {
        "id": "CXE3son2voJt"
      },
      "id": "CXE3son2voJt",
      "execution_count": null,
      "outputs": []
    },
    {
      "cell_type": "code",
      "source": [
        "dfc = dfc[(dfc['mill_motor_pwr_kw_pv'] >= 700) & (dfc['mill_motor_pwr_kw_pv'] <= 1700)]"
      ],
      "metadata": {
        "id": "BVpnk_o2Jnwn"
      },
      "id": "BVpnk_o2Jnwn",
      "execution_count": null,
      "outputs": []
    },
    {
      "cell_type": "code",
      "source": [
        "dfc.reset_index(drop=True, inplace=True)"
      ],
      "metadata": {
        "id": "7rCe1c2KwRHD"
      },
      "id": "7rCe1c2KwRHD",
      "execution_count": null,
      "outputs": []
    },
    {
      "cell_type": "code",
      "source": [
        "plt.figure(figsize=(20,8))\n",
        "\n",
        "plt.subplot(311)\n",
        "\n",
        "plt.plot(dfc[dfc['date'] > '2019-10-31']['separator_pwr_kw_pv'])\n",
        "\n",
        "plt.subplot(312)\n",
        "\n",
        "plt.plot(dfc[dfc['date'] > '2019-10-31']['separator_speed_rpm_pv'])\n",
        "\n",
        "plt.subplot(313)\n",
        "\n",
        "plt.plot(dfc[dfc['date'] > '2019-10-31']['total_feed_ton_h_pv'])"
      ],
      "metadata": {
        "id": "G-bXnr1hw0iF"
      },
      "id": "G-bXnr1hw0iF",
      "execution_count": null,
      "outputs": []
    },
    {
      "cell_type": "markdown",
      "source": [
        "# Mill Operation after maintaining period"
      ],
      "metadata": {
        "id": "sfvtfBthwycd"
      },
      "id": "sfvtfBthwycd"
    },
    {
      "cell_type": "code",
      "source": [
        "df['stopping_period_interval'].sort_values(ascending=False)"
      ],
      "metadata": {
        "id": "1XfKw1nNcTEZ"
      },
      "id": "1XfKw1nNcTEZ",
      "execution_count": null,
      "outputs": []
    },
    {
      "cell_type": "code",
      "source": [
        "df.loc[117268,'date']"
      ],
      "metadata": {
        "id": "CvoJsJyxlx4V"
      },
      "id": "CvoJsJyxlx4V",
      "execution_count": null,
      "outputs": []
    },
    {
      "cell_type": "code",
      "source": [
        "plt.figure(figsize=(20,8))\n",
        "\n",
        "plt.plot(dfc[dfc['date'] > '2019-07-26']['mill_motor_pwr_kw_pv'])"
      ],
      "metadata": {
        "id": "2k0qzj6Olko_"
      },
      "id": "2k0qzj6Olko_",
      "execution_count": null,
      "outputs": []
    },
    {
      "cell_type": "code",
      "source": [
        "plt.figure(figsize=(20,8))\n",
        "\n",
        "plt.plot(dfc[dfc['date'] > '2019-07-26']['mill_motor_pwr_kw_pv'].rolling(50).mean())"
      ],
      "metadata": {
        "id": "FdHJXCKWmr-f"
      },
      "id": "FdHJXCKWmr-f",
      "execution_count": null,
      "outputs": []
    },
    {
      "cell_type": "markdown",
      "source": [
        "# Separator Motor Outliers"
      ],
      "metadata": {
        "id": "SYxFKGsyda-8"
      },
      "id": "SYxFKGsyda-8"
    },
    {
      "cell_type": "code",
      "source": [
        "dfc = dfc[dfc['separator_pwr_kw_pv'] < 70]"
      ],
      "metadata": {
        "id": "lKbzEQtwdfJF"
      },
      "id": "lKbzEQtwdfJF",
      "execution_count": null,
      "outputs": []
    },
    {
      "cell_type": "code",
      "source": [
        "plt.figure(figsize=(20,8))\n",
        "\n",
        "plt.plot(dfc['separator_pwr_kw_pv'])"
      ],
      "metadata": {
        "id": "TPpeCu9vhdc_"
      },
      "id": "TPpeCu9vhdc_",
      "execution_count": null,
      "outputs": []
    },
    {
      "cell_type": "markdown",
      "source": [
        "# Data preparation for Weighted Model Training"
      ],
      "metadata": {
        "id": "RQU9nGuEbpIy"
      },
      "id": "RQU9nGuEbpIy"
    },
    {
      "cell_type": "code",
      "source": [
        "all_dates = pd.DataFrame(pd.date_range(start=df['date'].min(), end=df['date'].max(), freq='30S'), columns=['date'])"
      ],
      "metadata": {
        "id": "JK6VGOEYMqad"
      },
      "id": "JK6VGOEYMqad",
      "execution_count": null,
      "outputs": []
    },
    {
      "cell_type": "code",
      "source": [
        "all_dates_dfc = all_dates.merge(right=dfc, how='left', on='date')"
      ],
      "metadata": {
        "id": "PF16TmQdPD0F"
      },
      "id": "PF16TmQdPD0F",
      "execution_count": null,
      "outputs": []
    },
    {
      "cell_type": "code",
      "source": [
        "# len(all_dates_dfc) - all_dates_dfc['mill_motor_pwr_kw_pv'].isna().sum() "
      ],
      "metadata": {
        "id": "sPVK3BiyP-Qz"
      },
      "id": "sPVK3BiyP-Qz",
      "execution_count": null,
      "outputs": []
    },
    {
      "cell_type": "code",
      "source": [
        "len(dfc)"
      ],
      "metadata": {
        "id": "NPLIPemsR5oQ"
      },
      "id": "NPLIPemsR5oQ",
      "execution_count": null,
      "outputs": []
    },
    {
      "cell_type": "code",
      "source": [
        "plt.figure(figsize=(20,8))\n",
        "\n",
        "plt.plot(all_dates_dfc['separator_pwr_kw_pv'])"
      ],
      "metadata": {
        "id": "AWMjofFBaiBx"
      },
      "id": "AWMjofFBaiBx",
      "execution_count": null,
      "outputs": []
    },
    {
      "cell_type": "markdown",
      "source": [
        "**Defining a column 'Weight' to train the model in time windows**"
      ],
      "metadata": {
        "id": "nr2xp9J3fDgt"
      },
      "id": "nr2xp9J3fDgt"
    },
    {
      "cell_type": "code",
      "source": [
        "all_dates_dfc['weight'] = all_dates_dfc['mill_operation']"
      ],
      "metadata": {
        "id": "TTtA5C_rauxL"
      },
      "id": "TTtA5C_rauxL",
      "execution_count": null,
      "outputs": []
    },
    {
      "cell_type": "code",
      "source": [
        "all_dates_dfc['weight'].replace({np.NaN : 0.0}, inplace=True)"
      ],
      "metadata": {
        "id": "QN5fVur-eYcw"
      },
      "id": "QN5fVur-eYcw",
      "execution_count": null,
      "outputs": []
    },
    {
      "cell_type": "code",
      "source": [
        "all_dates_dfc['weight'].value_counts()"
      ],
      "metadata": {
        "id": "mjNf8eyefCUx"
      },
      "id": "mjNf8eyefCUx",
      "execution_count": null,
      "outputs": []
    },
    {
      "cell_type": "code",
      "source": [
        "all_dates_dfc.drop(columns='stopping_period_interval',inplace=True)"
      ],
      "metadata": {
        "id": "VXfY3EQtmCZi"
      },
      "id": "VXfY3EQtmCZi",
      "execution_count": null,
      "outputs": []
    },
    {
      "cell_type": "code",
      "source": [
        "all_dates_dfc.fillna(0, inplace=True)"
      ],
      "metadata": {
        "id": "8ebtO_9kfZuD"
      },
      "id": "8ebtO_9kfZuD",
      "execution_count": null,
      "outputs": []
    },
    {
      "cell_type": "code",
      "source": [
        "all_dates_dfc"
      ],
      "metadata": {
        "id": "q1mn3lBXZ9YN"
      },
      "id": "q1mn3lBXZ9YN",
      "execution_count": null,
      "outputs": []
    }
  ],
  "metadata": {
    "kernelspec": {
      "display_name": "Python 3 (ipykernel)",
      "language": "python",
      "name": "python3"
    },
    "language_info": {
      "codemirror_mode": {
        "name": "ipython",
        "version": 3
      },
      "file_extension": ".py",
      "mimetype": "text/x-python",
      "name": "python",
      "nbconvert_exporter": "python",
      "pygments_lexer": "ipython3",
      "version": "3.10.11"
    },
    "colab": {
      "provenance": [],
      "collapsed_sections": [
        "406eca2e",
        "60c44f34",
        "0ee62838",
        "HSmP6bJ43csq",
        "1Z8dXgnf-ewp"
      ],
      "private_outputs": true
    }
  },
  "nbformat": 4,
  "nbformat_minor": 5
}