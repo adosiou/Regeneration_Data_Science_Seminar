{
 "cells": [
  {
   "cell_type": "code",
   "execution_count": 1,
   "id": "4fff8e73",
   "metadata": {
    "executionInfo": {
     "elapsed": 965,
     "status": "ok",
     "timestamp": 1685323957032,
     "user": {
      "displayName": "Κωνσταντίνος Χρήστου",
      "userId": "14832950656728672898"
     },
     "user_tz": -180
    },
    "id": "4fff8e73"
   },
   "outputs": [],
   "source": [
    "#Import the libraries\n",
    "import pandas as pd\n",
    "import numpy as np\n",
    "import matplotlib.pyplot as plt\n",
    "import seaborn as sns"
   ]
  },
  {
   "cell_type": "code",
   "execution_count": 2,
   "id": "e8e3a8c3",
   "metadata": {
    "executionInfo": {
     "elapsed": 410,
     "status": "ok",
     "timestamp": 1685323957439,
     "user": {
      "displayName": "Κωνσταντίνος Χρήστου",
      "userId": "14832950656728672898"
     },
     "user_tz": -180
    },
    "id": "e8e3a8c3"
   },
   "outputs": [],
   "source": [
    "#Read the datasets\n",
    "df = pd.read_csv('listings_cleaned.csv')\n",
    "cal = pd.read_csv('calendar.csv')"
   ]
  },
  {
   "cell_type": "markdown",
   "id": "c53d17ec",
   "metadata": {
    "id": "c53d17ec"
   },
   "source": [
    "# Samples and Features"
   ]
  },
  {
   "cell_type": "code",
   "execution_count": 3,
   "id": "fe00d193",
   "metadata": {
    "colab": {
     "base_uri": "https://localhost:8080/"
    },
    "executionInfo": {
     "elapsed": 412,
     "status": "ok",
     "timestamp": 1685323957843,
     "user": {
      "displayName": "Κωνσταντίνος Χρήστου",
      "userId": "14832950656728672898"
     },
     "user_tz": -180
    },
    "id": "fe00d193",
    "outputId": "2382a6ab-2c37-4868-97d1-827c43bdce5e"
   },
   "outputs": [
    {
     "name": "stdout",
     "output_type": "stream",
     "text": [
      "In the listing_cleaned file, the number of features is:52 and the number of samples is:9455.\n",
      "In the calendar file, the number of features is:6 and the number of samples is:1048575.\n"
     ]
    }
   ],
   "source": [
    "samples1, features1 = df.shape\n",
    "\n",
    "samples2, features2 = cal.shape\n",
    "\n",
    "print(f\"In the listing_cleaned file, the number of features is:{features1} and the number of samples is:{samples1}.\")\n",
    "print(f\"In the calendar file, the number of features is:{features2} and the number of samples is:{samples2}.\")\n",
    "#Otherwise, we can simply run the df and cal dataframes (or df.info()) and the dimensions of each table are shown."
   ]
  },
  {
   "cell_type": "markdown",
   "id": "dbc1336b",
   "metadata": {
    "id": "dbc1336b"
   },
   "source": [
    "# Types of features"
   ]
  },
  {
   "cell_type": "markdown",
   "id": "b6eca172",
   "metadata": {
    "id": "b6eca172"
   },
   "source": [
    "With the method dtypes we can check the data type of each feature in both of our files.\n",
    "With the info() method we can examine and the exact size of each type category.\n",
    "In the listings_cleaned file we found:  float64(15 features), int64(16 features), object(21 features).\n",
    "In the calendar file we found:  float64(2 features), int64(1 feature), object(3 features)\n"
   ]
  },
  {
   "cell_type": "code",
   "execution_count": 4,
   "id": "dc87e4f1",
   "metadata": {
    "colab": {
     "base_uri": "https://localhost:8080/"
    },
    "executionInfo": {
     "elapsed": 15,
     "status": "ok",
     "timestamp": 1685323957844,
     "user": {
      "displayName": "Κωνσταντίνος Χρήστου",
      "userId": "14832950656728672898"
     },
     "user_tz": -180
    },
    "id": "dc87e4f1",
    "outputId": "bf347e28-f82e-4d99-ec3f-ad12d2c0c63d"
   },
   "outputs": [
    {
     "data": {
      "text/plain": [
       "id                                                int64\n",
       "host_id                                           int64\n",
       "host_name                                        object\n",
       "host_since                                       object\n",
       "host_response_time                               object\n",
       "host_response_rate                               object\n",
       "host_acceptance_rate                             object\n",
       "host_is_superhost                                object\n",
       "host_listings_count                             float64\n",
       "host_total_listings_count                       float64\n",
       "host_verifications                               object\n",
       "host_has_profile_pic                             object\n",
       "host_identity_verified                           object\n",
       "neighbourhood                                    object\n",
       "neighbourhood_cleansed                           object\n",
       "latitude                                        float64\n",
       "longitude                                       float64\n",
       "property_type                                    object\n",
       "room_type                                        object\n",
       "accommodates                                      int64\n",
       "bathrooms                                       float64\n",
       "bathrooms_text                                   object\n",
       "bedrooms                                        float64\n",
       "beds                                            float64\n",
       "amenities                                        object\n",
       "price                                            object\n",
       "minimum_nights                                    int64\n",
       "maximum_nights                                    int64\n",
       "has_availability                                 object\n",
       "availability_30                                   int64\n",
       "availability_60                                   int64\n",
       "availability_90                                   int64\n",
       "availability_365                                  int64\n",
       "number_of_reviews                                 int64\n",
       "number_of_reviews_ltm                             int64\n",
       "number_of_reviews_l30d                            int64\n",
       "first_review                                     object\n",
       "last_review                                      object\n",
       "review_scores_rating                            float64\n",
       "review_scores_accuracy                          float64\n",
       "review_scores_cleanliness                       float64\n",
       "review_scores_checkin                           float64\n",
       "review_scores_communication                     float64\n",
       "review_scores_location                          float64\n",
       "review_scores_value                             float64\n",
       "license                                          object\n",
       "instant_bookable                                 object\n",
       "calculated_host_listings_count                    int64\n",
       "calculated_host_listings_count_entire_homes       int64\n",
       "calculated_host_listings_count_private_rooms      int64\n",
       "calculated_host_listings_count_shared_rooms       int64\n",
       "reviews_per_month                               float64\n",
       "dtype: object"
      ]
     },
     "execution_count": 4,
     "metadata": {},
     "output_type": "execute_result"
    }
   ],
   "source": [
    "df.dtypes\n",
    "# df.info()"
   ]
  },
  {
   "cell_type": "code",
   "execution_count": 5,
   "id": "4d23af93",
   "metadata": {
    "colab": {
     "base_uri": "https://localhost:8080/"
    },
    "executionInfo": {
     "elapsed": 10,
     "status": "ok",
     "timestamp": 1685323957844,
     "user": {
      "displayName": "Κωνσταντίνος Χρήστου",
      "userId": "14832950656728672898"
     },
     "user_tz": -180
    },
    "id": "4d23af93",
    "outputId": "4956e895-0050-4838-c1f1-3671c1b35f5b"
   },
   "outputs": [
    {
     "data": {
      "text/plain": [
       "listing_id          int64\n",
       "date               object\n",
       "available          object\n",
       "price              object\n",
       "minimum_nights    float64\n",
       "maximum_nights    float64\n",
       "dtype: object"
      ]
     },
     "execution_count": 5,
     "metadata": {},
     "output_type": "execute_result"
    }
   ],
   "source": [
    "cal.dtypes\n",
    "# cal.info()"
   ]
  },
  {
   "cell_type": "markdown",
   "id": "72acb813",
   "metadata": {
    "id": "72acb813"
   },
   "source": [
    "# Missing values"
   ]
  },
  {
   "cell_type": "code",
   "execution_count": 6,
   "id": "b6df3742",
   "metadata": {
    "colab": {
     "base_uri": "https://localhost:8080/"
    },
    "executionInfo": {
     "elapsed": 984,
     "status": "ok",
     "timestamp": 1685323958823,
     "user": {
      "displayName": "Κωνσταντίνος Χρήστου",
      "userId": "14832950656728672898"
     },
     "user_tz": -180
    },
    "id": "b6df3742",
    "outputId": "fad0e76f-b41c-4bd5-c104-ad0f2225a74d"
   },
   "outputs": [
    {
     "name": "stdout",
     "output_type": "stream",
     "text": [
      "The total number of missing values in the listings_cleaned file is 44388 and the number of rows affected: 9455.\n",
      "The total number of missing values in the calendar file is 132 and the number of rows affected: 66.\n"
     ]
    }
   ],
   "source": [
    "print(f\"The total number of missing values in the listings_cleaned file is {df.isna().sum().sum()} and the number of rows affected: {df.isna().any(axis=1).sum()}.\")\n",
    "print(f\"The total number of missing values in the calendar file is {cal.isna().sum().sum()} and the number of rows affected: {cal.isna().any(axis=1).sum()}.\")"
   ]
  },
  {
   "cell_type": "markdown",
   "id": "e0b74790",
   "metadata": {
    "id": "e0b74790"
   },
   "source": [
    "# Listings per neighbourhood"
   ]
  },
  {
   "cell_type": "markdown",
   "id": "ede3bc3e",
   "metadata": {
    "id": "ede3bc3e"
   },
   "source": [
    "In 'neigbourhood_cleansed' and 'id' columns there are no missing values. "
   ]
  },
  {
   "cell_type": "code",
   "execution_count": 7,
   "id": "6zWY6stjDpTN",
   "metadata": {
    "colab": {
     "base_uri": "https://localhost:8080/"
    },
    "executionInfo": {
     "elapsed": 22,
     "status": "ok",
     "timestamp": 1685323958824,
     "user": {
      "displayName": "Κωνσταντίνος Χρήστου",
      "userId": "14832950656728672898"
     },
     "user_tz": -180
    },
    "id": "6zWY6stjDpTN",
    "outputId": "9df6fa2e-8d8a-41fd-f685-73a6a68e2161"
   },
   "outputs": [
    {
     "name": "stdout",
     "output_type": "stream",
     "text": [
      " We have 0 missing values in 'neighbourhood_cleansed' and 0 missing values in 'id' columns\n"
     ]
    }
   ],
   "source": [
    "print(f\" We have {df['neighbourhood_cleansed'].isna().sum()} missing values in \\'neighbourhood_cleansed\\' and {df['id'].isna().sum()} missing values in \\'id\\' columns\")"
   ]
  },
  {
   "cell_type": "code",
   "execution_count": 8,
   "id": "D1W6MwcKBLQ_",
   "metadata": {
    "colab": {
     "base_uri": "https://localhost:8080/"
    },
    "executionInfo": {
     "elapsed": 20,
     "status": "ok",
     "timestamp": 1685323958824,
     "user": {
      "displayName": "Κωνσταντίνος Χρήστου",
      "userId": "14832950656728672898"
     },
     "user_tz": -180
    },
    "id": "D1W6MwcKBLQ_",
    "outputId": "8556be7b-12e6-482a-f546-b16d23cfc245"
   },
   "outputs": [
    {
     "name": "stdout",
     "output_type": "stream",
     "text": [
      "In the neighbourhood ΕΜΠΟΡΙΚΟ ΤΡΙΓΩΝΟ-ΠΛΑΚΑ there are 1733 listings\n",
      "In the neighbourhood ΚΟΥΚΑΚΙ-ΜΑΚΡΥΓΙΑΝΝΗ there are 820 listings\n",
      "In the neighbourhood ΝΕΟΣ ΚΟΣΜΟΣ there are 721 listings\n",
      "In the neighbourhood ΜΟΥΣΕΙΟ-ΕΞΑΡΧΕΙΑ-ΝΕΑΠΟΛΗ there are 689 listings\n",
      "In the neighbourhood ΑΓΙΟΣ ΚΩΝΣΤΑΝΤΙΝΟΣ-ΠΛΑΤΕΙΑ ΒΑΘΗΣ there are 581 listings\n",
      "In the neighbourhood ΠΑΓΚΡΑΤΙ there are 409 listings\n",
      "In the neighbourhood ΠΛΑΤΕΙΑ ΑΤΤΙΚΗΣ there are 405 listings\n",
      "In the neighbourhood ΑΚΡΟΠΟΛΗ there are 319 listings\n",
      "In the neighbourhood ΚΟΛΩΝΑΚΙ there are 317 listings\n",
      "In the neighbourhood ΑΜΠΕΛΟΚΗΠΟΙ there are 292 listings\n",
      "In the neighbourhood ΘΗΣΕΙΟ there are 281 listings\n",
      "In the neighbourhood ΚΕΡΑΜΕΙΚΟΣ there are 242 listings\n",
      "In the neighbourhood ΚΥΨΕΛΗ there are 234 listings\n",
      "In the neighbourhood ΠΕΤΡΑΛΩΝΑ there are 230 listings\n",
      "In the neighbourhood ΣΤΑΔΙΟ there are 176 listings\n",
      "In the neighbourhood ΙΛΙΣΙΑ there are 174 listings\n",
      "In the neighbourhood ΓΟΥΔΙ there are 150 listings\n",
      "In the neighbourhood ΖΑΠΠΕΙΟ there are 141 listings\n",
      "In the neighbourhood ΛΥΚΑΒΗΤΤΟΣ there are 137 listings\n",
      "In the neighbourhood ΠΛΑΤΕΙΑ ΑΜΕΡΙΚΗΣ there are 122 listings\n",
      "In the neighbourhood ΠΑΤΗΣΙΑ there are 117 listings\n",
      "In the neighbourhood ΝΙΡΒΑΝΑ there are 93 listings\n",
      "In the neighbourhood ΓΚΥΖΗ there are 93 listings\n",
      "In the neighbourhood ΠΕΔΙΟ ΑΡΕΩΣ there are 85 listings\n",
      "In the neighbourhood ΣΤΑΘΜΟΣ ΛΑΡΙΣΗΣ there are 84 listings\n",
      "In the neighbourhood ΚΟΛΩΝΟΣ there are 80 listings\n",
      "In the neighbourhood ΓΚΑΖΙ there are 80 listings\n",
      "In the neighbourhood ΒΟΤΑΝΙΚΟΣ there are 80 listings\n",
      "In the neighbourhood ΑΝΩ ΚΥΨΕΛΗ there are 76 listings\n",
      "In the neighbourhood ΑΓΙΟΣ ΝΙΚΟΛΑΟΣ there are 69 listings\n",
      "In the neighbourhood ΑΝΩ ΠΑΤΗΣΙΑ there are 69 listings\n",
      "In the neighbourhood ΑΚΑΔΗΜΙΑ ΠΛΑΤΩΝΟΣ there are 61 listings\n",
      "In the neighbourhood ΝΕΑ ΚΥΨΕΛΗ there are 51 listings\n",
      "In the neighbourhood ΓΟΥΒΑ there are 49 listings\n",
      "In the neighbourhood ΕΛΛΗΝΟΡΩΣΩΝ there are 42 listings\n",
      "In the neighbourhood 1Ο ΝΕΚΡΟΤΑΦΕΙΟ there are 37 listings\n",
      "In the neighbourhood ΠΟΛΥΓΩΝΟ there are 25 listings\n",
      "In the neighbourhood ΑΓΙΟΣ ΕΛΕΥΘΕΡΙΟΣ there are 23 listings\n",
      "In the neighbourhood ΣΕΠΟΛΙΑ there are 18 listings\n",
      "In the neighbourhood ΚΟΛΟΚΥΝΘΟΥ there are 14 listings\n",
      "In the neighbourhood ΡΙΖΟΥΠΟΛΗ there are 12 listings\n",
      "In the neighbourhood ΡΗΓΙΛΛΗΣ there are 11 listings\n",
      "In the neighbourhood ΠΡΟΜΠΟΝΑ there are 9 listings\n",
      "In the neighbourhood ΠΕΝΤΑΓΩΝΟ there are 4 listings\n"
     ]
    }
   ],
   "source": [
    "listings_per_neighbourhood = df.groupby(['neighbourhood_cleansed'])['id'].count().sort_values(ascending=False)\n",
    "for neighbourhood in listings_per_neighbourhood.index:\n",
    "  print(f'In the neighbourhood {neighbourhood} there are {listings_per_neighbourhood[neighbourhood]} listings')"
   ]
  },
  {
   "cell_type": "markdown",
   "id": "0a27914d",
   "metadata": {
    "id": "0a27914d"
   },
   "source": [
    "# Listings per room type"
   ]
  },
  {
   "cell_type": "markdown",
   "id": "oTkcvfilHURd",
   "metadata": {
    "id": "oTkcvfilHURd"
   },
   "source": [
    "We have no missing values in 'room_type' column."
   ]
  },
  {
   "cell_type": "code",
   "execution_count": 9,
   "id": "jegW1I8cFxLm",
   "metadata": {
    "colab": {
     "base_uri": "https://localhost:8080/"
    },
    "executionInfo": {
     "elapsed": 18,
     "status": "ok",
     "timestamp": 1685323958825,
     "user": {
      "displayName": "Κωνσταντίνος Χρήστου",
      "userId": "14832950656728672898"
     },
     "user_tz": -180
    },
    "id": "jegW1I8cFxLm",
    "outputId": "03b1faf9-ac73-4a07-92ec-8bd727ff06e2"
   },
   "outputs": [
    {
     "name": "stdout",
     "output_type": "stream",
     "text": [
      "There are 0 missing values in 'room_type' column.\n"
     ]
    }
   ],
   "source": [
    "print(f\"There are {df['room_type'].isna().sum()} missing values in \\'room_type\\' column.\")"
   ]
  },
  {
   "cell_type": "code",
   "execution_count": 10,
   "id": "MMwZnGsiCArv",
   "metadata": {
    "colab": {
     "base_uri": "https://localhost:8080/"
    },
    "executionInfo": {
     "elapsed": 13,
     "status": "ok",
     "timestamp": 1685323958825,
     "user": {
      "displayName": "Κωνσταντίνος Χρήστου",
      "userId": "14832950656728672898"
     },
     "user_tz": -180
    },
    "id": "MMwZnGsiCArv",
    "outputId": "b7a9237b-7772-4251-8656-276120ebbb34"
   },
   "outputs": [
    {
     "name": "stdout",
     "output_type": "stream",
     "text": [
      "There are 8270 listings for the room type Entire home/apt\n",
      "There are 932 listings for the room type Private room\n",
      "There are 179 listings for the room type Hotel room\n",
      "There are 74 listings for the room type Shared room\n"
     ]
    }
   ],
   "source": [
    "listings_per_room_type = df.groupby(['room_type'])['id'].count().sort_values(ascending=False)\n",
    "for room_type in listings_per_room_type.index:\n",
    "  print(f'There are {listings_per_room_type[room_type]} listings for the room type {room_type}')"
   ]
  },
  {
   "cell_type": "markdown",
   "id": "3bbcaa4f",
   "metadata": {
    "id": "3bbcaa4f"
   },
   "source": [
    "# Listings per room number"
   ]
  },
  {
   "cell_type": "markdown",
   "id": "2779f948",
   "metadata": {
    "id": "2779f948"
   },
   "source": [
    "When we talk about room number do we refer to the bedroom?\n",
    "Should we include and the bathrooms in the calculation? Also there is an outlier we should deal with (33).\n",
    "In this question, we examined only the bedrooms as rooms.\n",
    "First, we replace missing values in 'bedrooms' column with the median of the column. The type of the room with the outlier value of 33 bedrooms is private room and it offers accomodation to 2 people ('accomodates' column is set to 2). So we set the number of bedrooms to 1."
   ]
  },
  {
   "cell_type": "code",
   "execution_count": 11,
   "id": "WCccoeM-IUuX",
   "metadata": {
    "executionInfo": {
     "elapsed": 10,
     "status": "ok",
     "timestamp": 1685323958825,
     "user": {
      "displayName": "Κωνσταντίνος Χρήστου",
      "userId": "14832950656728672898"
     },
     "user_tz": -180
    },
    "id": "WCccoeM-IUuX"
   },
   "outputs": [],
   "source": [
    "df['bedrooms'] = df['bedrooms'].fillna(df['bedrooms'].median())\n",
    "df[df['bedrooms'] == 33].index #the index of listing ith 33 bedrooms\n",
    "df.loc[df[df['bedrooms'] == 33].index,'bedrooms'] = 1"
   ]
  },
  {
   "cell_type": "code",
   "execution_count": 12,
   "id": "SGnGDPIHQouL",
   "metadata": {
    "colab": {
     "base_uri": "https://localhost:8080/"
    },
    "executionInfo": {
     "elapsed": 11,
     "status": "ok",
     "timestamp": 1685323958826,
     "user": {
      "displayName": "Κωνσταντίνος Χρήστου",
      "userId": "14832950656728672898"
     },
     "user_tz": -180
    },
    "id": "SGnGDPIHQouL",
    "outputId": "6bb00dcf-e1b2-4d49-bb63-620469774ded"
   },
   "outputs": [
    {
     "name": "stdout",
     "output_type": "stream",
     "text": [
      "There are 6082 listings with 1 bedrooms\n",
      "There are 2603 listings with 2 bedrooms\n",
      "There are 570 listings with 3 bedrooms\n",
      "There are 133 listings with 4 bedrooms\n",
      "There are 32 listings with 5 bedrooms\n",
      "There are 27 listings with 6 bedrooms\n",
      "There are 4 listings with 10 bedrooms\n",
      "There are 2 listings with 7 bedrooms\n",
      "There are 1 listings with 8 bedrooms\n",
      "There are 1 listings with 9 bedrooms\n"
     ]
    }
   ],
   "source": [
    "listings_per_room_number = df.groupby(['bedrooms'])['id'].count().sort_values(ascending=False)\n",
    "for bedrooms in listings_per_room_number.index:\n",
    "  print(f'There are {listings_per_room_number[bedrooms]} listings with {int(bedrooms)} bedrooms')"
   ]
  },
  {
   "cell_type": "markdown",
   "id": "399bfe6c",
   "metadata": {
    "id": "399bfe6c"
   },
   "source": [
    "# Distribution of Listings per host"
   ]
  },
  {
   "cell_type": "markdown",
   "id": "9374b142",
   "metadata": {
    "id": "9374b142"
   },
   "source": [
    "If we examine the column df['host_total_listings_count'], with the describe method, we will see that the majority of the samples are between 0-10. The max value is 942, which is an outlier. . With a better look to the data, we saw that df['calculated_host_listings_count'] seems to have the correct values since the range is in 75% [1,8].\n",
    "So, probably, it would make more sense if we plot the histogram in the range [0-20]"
   ]
  },
  {
   "cell_type": "code",
   "execution_count": 13,
   "id": "ZUVYfrTMXT4c",
   "metadata": {
    "colab": {
     "base_uri": "https://localhost:8080/",
     "height": 1000
    },
    "executionInfo": {
     "elapsed": 377,
     "status": "ok",
     "timestamp": 1685323959195,
     "user": {
      "displayName": "Κωνσταντίνος Χρήστου",
      "userId": "14832950656728672898"
     },
     "user_tz": -180
    },
    "id": "ZUVYfrTMXT4c",
    "outputId": "6d3810bc-6779-4c0b-c562-980bcb931d15"
   },
   "outputs": [
    {
     "data": {
      "text/plain": [
       "1      3817\n",
       "2       525\n",
       "3       218\n",
       "4       116\n",
       "5        89\n",
       "6        55\n",
       "7        35\n",
       "8        25\n",
       "9        21\n",
       "11       10\n",
       "13        9\n",
       "10        9\n",
       "12        8\n",
       "16        6\n",
       "14        5\n",
       "15        4\n",
       "25        4\n",
       "19        3\n",
       "26        3\n",
       "17        3\n",
       "18        3\n",
       "21        2\n",
       "22        2\n",
       "23        2\n",
       "29        2\n",
       "32        2\n",
       "70        2\n",
       "20        1\n",
       "39        1\n",
       "69        1\n",
       "67        1\n",
       "64        1\n",
       "57        1\n",
       "49        1\n",
       "35        1\n",
       "38        1\n",
       "36        1\n",
       "31        1\n",
       "30        1\n",
       "28        1\n",
       "24        1\n",
       "101       1\n",
       "Name: calculated_host_listings_count, dtype: int64"
      ]
     },
     "execution_count": 13,
     "metadata": {},
     "output_type": "execute_result"
    },
    {
     "data": {
      "image/png": "[encoded data removed]",
      "text/plain": [
       "<Figure size 640x480 with 1 Axes>"
      ]
     },
     "metadata": {},
     "output_type": "display_data"
    }
   ],
   "source": [
    "listings_per_host = df.groupby(['host_id'])['calculated_host_listings_count'].max().sort_values(ascending=False)\n",
    "listings_per_host.value_counts().sort_index()\n",
    "plt.hist(listings_per_host,bins=19, edgecolor='black', range=[1, 20]);\n",
    "listings_per_host.value_counts()"
   ]
  },
  {
   "cell_type": "markdown",
   "id": "d636661c",
   "metadata": {
    "id": "d636661c"
   },
   "source": [
    "While checking the rows with the max listings, we realized that they referred to a company named Homm and can include many hosts.. In any way, this company seems to have the most listings according to this dataset."
   ]
  },
  {
   "cell_type": "code",
   "execution_count": 14,
   "id": "KYBLLks0Z6-_",
   "metadata": {
    "colab": {
     "base_uri": "https://localhost:8080/",
     "height": 487
    },
    "executionInfo": {
     "elapsed": 10,
     "status": "ok",
     "timestamp": 1685323959196,
     "user": {
      "displayName": "Κωνσταντίνος Χρήστου",
      "userId": "14832950656728672898"
     },
     "user_tz": -180
    },
    "id": "KYBLLks0Z6-_",
    "outputId": "930db51a-e899-4b0d-9ccd-811f44107062"
   },
   "outputs": [
    {
     "data": {
      "text/html": [
       "<div>\n",
       "<style scoped>\n",
       "    .dataframe tbody tr th:only-of-type {\n",
       "        vertical-align: middle;\n",
       "    }\n",
       "\n",
       "    .dataframe tbody tr th {\n",
       "        vertical-align: top;\n",
       "    }\n",
       "\n",
       "    .dataframe thead th {\n",
       "        text-align: right;\n",
       "    }\n",
       "</style>\n",
       "<table border=\"1\" class=\"dataframe\">\n",
       "  <thead>\n",
       "    <tr style=\"text-align: right;\">\n",
       "      <th></th>\n",
       "      <th>id</th>\n",
       "      <th>host_id</th>\n",
       "      <th>host_name</th>\n",
       "      <th>host_since</th>\n",
       "      <th>host_response_time</th>\n",
       "      <th>host_response_rate</th>\n",
       "      <th>host_acceptance_rate</th>\n",
       "      <th>host_is_superhost</th>\n",
       "      <th>host_listings_count</th>\n",
       "      <th>host_total_listings_count</th>\n",
       "      <th>...</th>\n",
       "      <th>review_scores_communication</th>\n",
       "      <th>review_scores_location</th>\n",
       "      <th>review_scores_value</th>\n",
       "      <th>license</th>\n",
       "      <th>instant_bookable</th>\n",
       "      <th>calculated_host_listings_count</th>\n",
       "      <th>calculated_host_listings_count_entire_homes</th>\n",
       "      <th>calculated_host_listings_count_private_rooms</th>\n",
       "      <th>calculated_host_listings_count_shared_rooms</th>\n",
       "      <th>reviews_per_month</th>\n",
       "    </tr>\n",
       "  </thead>\n",
       "  <tbody>\n",
       "    <tr>\n",
       "      <th>758</th>\n",
       "      <td>10588538</td>\n",
       "      <td>29927830</td>\n",
       "      <td>Homm ®</td>\n",
       "      <td>2015-03-24</td>\n",
       "      <td>within an hour</td>\n",
       "      <td>100%</td>\n",
       "      <td>100%</td>\n",
       "      <td>f</td>\n",
       "      <td>181.0</td>\n",
       "      <td>181.0</td>\n",
       "      <td>...</td>\n",
       "      <td>10.0</td>\n",
       "      <td>9.0</td>\n",
       "      <td>9.0</td>\n",
       "      <td>1083774</td>\n",
       "      <td>t</td>\n",
       "      <td>101</td>\n",
       "      <td>101</td>\n",
       "      <td>0</td>\n",
       "      <td>0</td>\n",
       "      <td>3.81</td>\n",
       "    </tr>\n",
       "    <tr>\n",
       "      <th>1321</th>\n",
       "      <td>15083903</td>\n",
       "      <td>29927830</td>\n",
       "      <td>Homm ®</td>\n",
       "      <td>2015-03-24</td>\n",
       "      <td>within an hour</td>\n",
       "      <td>100%</td>\n",
       "      <td>100%</td>\n",
       "      <td>f</td>\n",
       "      <td>181.0</td>\n",
       "      <td>181.0</td>\n",
       "      <td>...</td>\n",
       "      <td>10.0</td>\n",
       "      <td>8.0</td>\n",
       "      <td>9.0</td>\n",
       "      <td>1011552</td>\n",
       "      <td>t</td>\n",
       "      <td>101</td>\n",
       "      <td>101</td>\n",
       "      <td>0</td>\n",
       "      <td>0</td>\n",
       "      <td>2.84</td>\n",
       "    </tr>\n",
       "    <tr>\n",
       "      <th>1356</th>\n",
       "      <td>15409164</td>\n",
       "      <td>29927830</td>\n",
       "      <td>Homm ®</td>\n",
       "      <td>2015-03-24</td>\n",
       "      <td>within an hour</td>\n",
       "      <td>100%</td>\n",
       "      <td>100%</td>\n",
       "      <td>f</td>\n",
       "      <td>181.0</td>\n",
       "      <td>181.0</td>\n",
       "      <td>...</td>\n",
       "      <td>10.0</td>\n",
       "      <td>10.0</td>\n",
       "      <td>9.0</td>\n",
       "      <td>544540</td>\n",
       "      <td>t</td>\n",
       "      <td>101</td>\n",
       "      <td>101</td>\n",
       "      <td>0</td>\n",
       "      <td>0</td>\n",
       "      <td>3.51</td>\n",
       "    </tr>\n",
       "    <tr>\n",
       "      <th>1535</th>\n",
       "      <td>16608352</td>\n",
       "      <td>29927830</td>\n",
       "      <td>Homm ®</td>\n",
       "      <td>2015-03-24</td>\n",
       "      <td>within an hour</td>\n",
       "      <td>100%</td>\n",
       "      <td>100%</td>\n",
       "      <td>f</td>\n",
       "      <td>181.0</td>\n",
       "      <td>181.0</td>\n",
       "      <td>...</td>\n",
       "      <td>10.0</td>\n",
       "      <td>10.0</td>\n",
       "      <td>9.0</td>\n",
       "      <td>996869</td>\n",
       "      <td>t</td>\n",
       "      <td>101</td>\n",
       "      <td>101</td>\n",
       "      <td>0</td>\n",
       "      <td>0</td>\n",
       "      <td>3.90</td>\n",
       "    </tr>\n",
       "    <tr>\n",
       "      <th>1555</th>\n",
       "      <td>16785744</td>\n",
       "      <td>29927830</td>\n",
       "      <td>Homm ®</td>\n",
       "      <td>2015-03-24</td>\n",
       "      <td>within an hour</td>\n",
       "      <td>100%</td>\n",
       "      <td>100%</td>\n",
       "      <td>f</td>\n",
       "      <td>181.0</td>\n",
       "      <td>181.0</td>\n",
       "      <td>...</td>\n",
       "      <td>10.0</td>\n",
       "      <td>8.0</td>\n",
       "      <td>9.0</td>\n",
       "      <td>1083955</td>\n",
       "      <td>t</td>\n",
       "      <td>101</td>\n",
       "      <td>101</td>\n",
       "      <td>0</td>\n",
       "      <td>0</td>\n",
       "      <td>2.05</td>\n",
       "    </tr>\n",
       "    <tr>\n",
       "      <th>...</th>\n",
       "      <td>...</td>\n",
       "      <td>...</td>\n",
       "      <td>...</td>\n",
       "      <td>...</td>\n",
       "      <td>...</td>\n",
       "      <td>...</td>\n",
       "      <td>...</td>\n",
       "      <td>...</td>\n",
       "      <td>...</td>\n",
       "      <td>...</td>\n",
       "      <td>...</td>\n",
       "      <td>...</td>\n",
       "      <td>...</td>\n",
       "      <td>...</td>\n",
       "      <td>...</td>\n",
       "      <td>...</td>\n",
       "      <td>...</td>\n",
       "      <td>...</td>\n",
       "      <td>...</td>\n",
       "      <td>...</td>\n",
       "      <td>...</td>\n",
       "    </tr>\n",
       "    <tr>\n",
       "      <th>9109</th>\n",
       "      <td>44937114</td>\n",
       "      <td>29927830</td>\n",
       "      <td>Homm ®</td>\n",
       "      <td>2015-03-24</td>\n",
       "      <td>within an hour</td>\n",
       "      <td>100%</td>\n",
       "      <td>100%</td>\n",
       "      <td>f</td>\n",
       "      <td>181.0</td>\n",
       "      <td>181.0</td>\n",
       "      <td>...</td>\n",
       "      <td>NaN</td>\n",
       "      <td>NaN</td>\n",
       "      <td>NaN</td>\n",
       "      <td>1100958</td>\n",
       "      <td>t</td>\n",
       "      <td>101</td>\n",
       "      <td>101</td>\n",
       "      <td>0</td>\n",
       "      <td>0</td>\n",
       "      <td>NaN</td>\n",
       "    </tr>\n",
       "    <tr>\n",
       "      <th>9210</th>\n",
       "      <td>45377937</td>\n",
       "      <td>29927830</td>\n",
       "      <td>Homm ®</td>\n",
       "      <td>2015-03-24</td>\n",
       "      <td>within an hour</td>\n",
       "      <td>100%</td>\n",
       "      <td>100%</td>\n",
       "      <td>f</td>\n",
       "      <td>181.0</td>\n",
       "      <td>181.0</td>\n",
       "      <td>...</td>\n",
       "      <td>NaN</td>\n",
       "      <td>NaN</td>\n",
       "      <td>NaN</td>\n",
       "      <td>1084224</td>\n",
       "      <td>t</td>\n",
       "      <td>101</td>\n",
       "      <td>101</td>\n",
       "      <td>0</td>\n",
       "      <td>0</td>\n",
       "      <td>NaN</td>\n",
       "    </tr>\n",
       "    <tr>\n",
       "      <th>9377</th>\n",
       "      <td>45836431</td>\n",
       "      <td>29927830</td>\n",
       "      <td>Homm ®</td>\n",
       "      <td>2015-03-24</td>\n",
       "      <td>within an hour</td>\n",
       "      <td>100%</td>\n",
       "      <td>100%</td>\n",
       "      <td>f</td>\n",
       "      <td>181.0</td>\n",
       "      <td>181.0</td>\n",
       "      <td>...</td>\n",
       "      <td>NaN</td>\n",
       "      <td>NaN</td>\n",
       "      <td>NaN</td>\n",
       "      <td>1093294</td>\n",
       "      <td>t</td>\n",
       "      <td>101</td>\n",
       "      <td>101</td>\n",
       "      <td>0</td>\n",
       "      <td>0</td>\n",
       "      <td>NaN</td>\n",
       "    </tr>\n",
       "    <tr>\n",
       "      <th>9407</th>\n",
       "      <td>45890515</td>\n",
       "      <td>29927830</td>\n",
       "      <td>Homm ®</td>\n",
       "      <td>2015-03-24</td>\n",
       "      <td>within an hour</td>\n",
       "      <td>100%</td>\n",
       "      <td>100%</td>\n",
       "      <td>f</td>\n",
       "      <td>181.0</td>\n",
       "      <td>181.0</td>\n",
       "      <td>...</td>\n",
       "      <td>NaN</td>\n",
       "      <td>NaN</td>\n",
       "      <td>NaN</td>\n",
       "      <td>1101429</td>\n",
       "      <td>t</td>\n",
       "      <td>101</td>\n",
       "      <td>101</td>\n",
       "      <td>0</td>\n",
       "      <td>0</td>\n",
       "      <td>NaN</td>\n",
       "    </tr>\n",
       "    <tr>\n",
       "      <th>9437</th>\n",
       "      <td>45986666</td>\n",
       "      <td>29927830</td>\n",
       "      <td>Homm ®</td>\n",
       "      <td>2015-03-24</td>\n",
       "      <td>within an hour</td>\n",
       "      <td>100%</td>\n",
       "      <td>100%</td>\n",
       "      <td>f</td>\n",
       "      <td>181.0</td>\n",
       "      <td>181.0</td>\n",
       "      <td>...</td>\n",
       "      <td>NaN</td>\n",
       "      <td>NaN</td>\n",
       "      <td>NaN</td>\n",
       "      <td>1097164</td>\n",
       "      <td>t</td>\n",
       "      <td>101</td>\n",
       "      <td>101</td>\n",
       "      <td>0</td>\n",
       "      <td>0</td>\n",
       "      <td>NaN</td>\n",
       "    </tr>\n",
       "  </tbody>\n",
       "</table>\n",
       "<p>101 rows × 52 columns</p>\n",
       "</div>"
      ],
      "text/plain": [
       "            id   host_id host_name  host_since host_response_time  \\\n",
       "758   10588538  29927830    Homm ®  2015-03-24     within an hour   \n",
       "1321  15083903  29927830    Homm ®  2015-03-24     within an hour   \n",
       "1356  15409164  29927830    Homm ®  2015-03-24     within an hour   \n",
       "1535  16608352  29927830    Homm ®  2015-03-24     within an hour   \n",
       "1555  16785744  29927830    Homm ®  2015-03-24     within an hour   \n",
       "...        ...       ...       ...         ...                ...   \n",
       "9109  44937114  29927830    Homm ®  2015-03-24     within an hour   \n",
       "9210  45377937  29927830    Homm ®  2015-03-24     within an hour   \n",
       "9377  45836431  29927830    Homm ®  2015-03-24     within an hour   \n",
       "9407  45890515  29927830    Homm ®  2015-03-24     within an hour   \n",
       "9437  45986666  29927830    Homm ®  2015-03-24     within an hour   \n",
       "\n",
       "     host_response_rate host_acceptance_rate host_is_superhost  \\\n",
       "758                100%                 100%                 f   \n",
       "1321               100%                 100%                 f   \n",
       "1356               100%                 100%                 f   \n",
       "1535               100%                 100%                 f   \n",
       "1555               100%                 100%                 f   \n",
       "...                 ...                  ...               ...   \n",
       "9109               100%                 100%                 f   \n",
       "9210               100%                 100%                 f   \n",
       "9377               100%                 100%                 f   \n",
       "9407               100%                 100%                 f   \n",
       "9437               100%                 100%                 f   \n",
       "\n",
       "      host_listings_count  host_total_listings_count  ...  \\\n",
       "758                 181.0                      181.0  ...   \n",
       "1321                181.0                      181.0  ...   \n",
       "1356                181.0                      181.0  ...   \n",
       "1535                181.0                      181.0  ...   \n",
       "1555                181.0                      181.0  ...   \n",
       "...                   ...                        ...  ...   \n",
       "9109                181.0                      181.0  ...   \n",
       "9210                181.0                      181.0  ...   \n",
       "9377                181.0                      181.0  ...   \n",
       "9407                181.0                      181.0  ...   \n",
       "9437                181.0                      181.0  ...   \n",
       "\n",
       "     review_scores_communication review_scores_location review_scores_value  \\\n",
       "758                         10.0                    9.0                 9.0   \n",
       "1321                        10.0                    8.0                 9.0   \n",
       "1356                        10.0                   10.0                 9.0   \n",
       "1535                        10.0                   10.0                 9.0   \n",
       "1555                        10.0                    8.0                 9.0   \n",
       "...                          ...                    ...                 ...   \n",
       "9109                         NaN                    NaN                 NaN   \n",
       "9210                         NaN                    NaN                 NaN   \n",
       "9377                         NaN                    NaN                 NaN   \n",
       "9407                         NaN                    NaN                 NaN   \n",
       "9437                         NaN                    NaN                 NaN   \n",
       "\n",
       "      license instant_bookable  calculated_host_listings_count  \\\n",
       "758   1083774                t                             101   \n",
       "1321  1011552                t                             101   \n",
       "1356   544540                t                             101   \n",
       "1535   996869                t                             101   \n",
       "1555  1083955                t                             101   \n",
       "...       ...              ...                             ...   \n",
       "9109  1100958                t                             101   \n",
       "9210  1084224                t                             101   \n",
       "9377  1093294                t                             101   \n",
       "9407  1101429                t                             101   \n",
       "9437  1097164                t                             101   \n",
       "\n",
       "      calculated_host_listings_count_entire_homes  \\\n",
       "758                                           101   \n",
       "1321                                          101   \n",
       "1356                                          101   \n",
       "1535                                          101   \n",
       "1555                                          101   \n",
       "...                                           ...   \n",
       "9109                                          101   \n",
       "9210                                          101   \n",
       "9377                                          101   \n",
       "9407                                          101   \n",
       "9437                                          101   \n",
       "\n",
       "     calculated_host_listings_count_private_rooms  \\\n",
       "758                                             0   \n",
       "1321                                            0   \n",
       "1356                                            0   \n",
       "1535                                            0   \n",
       "1555                                            0   \n",
       "...                                           ...   \n",
       "9109                                            0   \n",
       "9210                                            0   \n",
       "9377                                            0   \n",
       "9407                                            0   \n",
       "9437                                            0   \n",
       "\n",
       "     calculated_host_listings_count_shared_rooms  reviews_per_month  \n",
       "758                                            0               3.81  \n",
       "1321                                           0               2.84  \n",
       "1356                                           0               3.51  \n",
       "1535                                           0               3.90  \n",
       "1555                                           0               2.05  \n",
       "...                                          ...                ...  \n",
       "9109                                           0                NaN  \n",
       "9210                                           0                NaN  \n",
       "9377                                           0                NaN  \n",
       "9407                                           0                NaN  \n",
       "9437                                           0                NaN  \n",
       "\n",
       "[101 rows x 52 columns]"
      ]
     },
     "execution_count": 14,
     "metadata": {},
     "output_type": "execute_result"
    }
   ],
   "source": [
    "df[df['calculated_host_listings_count'] == 101]"
   ]
  },
  {
   "cell_type": "code",
   "execution_count": 15,
   "id": "1cbd0fb2",
   "metadata": {
    "colab": {
     "base_uri": "https://localhost:8080/"
    },
    "executionInfo": {
     "elapsed": 9,
     "status": "ok",
     "timestamp": 1685323959196,
     "user": {
      "displayName": "Κωνσταντίνος Χρήστου",
      "userId": "14832950656728672898"
     },
     "user_tz": -180
    },
    "id": "1cbd0fb2",
    "outputId": "45bf07df-7763-426f-da91-af7c3aa9fa7d"
   },
   "outputs": [
    {
     "name": "stdout",
     "output_type": "stream",
     "text": [
      "The most listings that a single host has is 101.\n"
     ]
    }
   ],
   "source": [
    "print(f\"The most listings that a single host has is {max(df['calculated_host_listings_count'])}.\")"
   ]
  },
  {
   "cell_type": "markdown",
   "id": "e9d1302d",
   "metadata": {
    "id": "e9d1302d"
   },
   "source": [
    "# The first host "
   ]
  },
  {
   "cell_type": "code",
   "execution_count": 16,
   "id": "e4e9f3c0",
   "metadata": {
    "colab": {
     "base_uri": "https://localhost:8080/"
    },
    "executionInfo": {
     "elapsed": 425,
     "status": "ok",
     "timestamp": 1685323959615,
     "user": {
      "displayName": "Κωνσταντίνος Χρήστου",
      "userId": "14832950656728672898"
     },
     "user_tz": -180
    },
    "id": "e4e9f3c0",
    "outputId": "f574223d-e582-4921-ebb7-72e57f5e8f9f"
   },
   "outputs": [
    {
     "name": "stdout",
     "output_type": "stream",
     "text": [
      "The first host registered at: 2009-09-08 00:00:00.\n"
     ]
    }
   ],
   "source": [
    "#Let's make sure 'host_since' is actually a date in pandas\n",
    "df['host_since'] = pd.to_datetime(df['host_since'])\n",
    "# df['host_since'] = df['host_since'].apply(lambda x: x.date())\n",
    "print(f\"The first host registered at: {min(df['host_since'])}.\")\n",
    "# df['host_since'].isna().sum()"
   ]
  },
  {
   "cell_type": "markdown",
   "id": "4fa8bbc1",
   "metadata": {
    "id": "4fa8bbc1"
   },
   "source": [
    "# Year with the most hosts registered"
   ]
  },
  {
   "cell_type": "code",
   "execution_count": 17,
   "id": "cLQnnWtRZc3X",
   "metadata": {
    "colab": {
     "base_uri": "https://localhost:8080/"
    },
    "executionInfo": {
     "elapsed": 6,
     "status": "ok",
     "timestamp": 1685323959615,
     "user": {
      "displayName": "Κωνσταντίνος Χρήστου",
      "userId": "14832950656728672898"
     },
     "user_tz": -180
    },
    "id": "cLQnnWtRZc3X",
    "outputId": "1fc24770-3b96-486a-b23a-9475ec0abd7a"
   },
   "outputs": [
    {
     "name": "stdout",
     "output_type": "stream",
     "text": [
      "The year 2018 had the most hosts registered with 1766 hosts.\n"
     ]
    }
   ],
   "source": [
    "df['host_since'] = pd.to_datetime(df['host_since'])\n",
    "print(f\"The year {int(df['host_since'].dt.year.value_counts().index[0])} had the most hosts registered with {df['host_since'].dt.year.value_counts().max()} hosts.\")"
   ]
  },
  {
   "cell_type": "markdown",
   "id": "ee81c320",
   "metadata": {
    "id": "ee81c320"
   },
   "source": [
    "# Range of the calendar"
   ]
  },
  {
   "cell_type": "markdown",
   "id": "91f0989b",
   "metadata": {
    "id": "91f0989b"
   },
   "source": [
    "If the column date was presented as a time series, we could have seen the range if we have called the day started as cal.date[0] and the last day as cal['date'].iloc[-1]. But in this case, we examine that the data arent sorted according to dates."
   ]
  },
  {
   "cell_type": "code",
   "execution_count": 18,
   "id": "7c9c10e3",
   "metadata": {
    "colab": {
     "base_uri": "https://localhost:8080/"
    },
    "executionInfo": {
     "elapsed": 5664,
     "status": "ok",
     "timestamp": 1685323965277,
     "user": {
      "displayName": "Κωνσταντίνος Χρήστου",
      "userId": "14832950656728672898"
     },
     "user_tz": -180
    },
    "id": "7c9c10e3",
    "outputId": "9e8b5c1f-215d-41c6-d202-1fff06d5382e"
   },
   "outputs": [
    {
     "name": "stdout",
     "output_type": "stream",
     "text": [
      "The range of the calendar is from 2020-10-25 to 2021-10-25.\n"
     ]
    }
   ],
   "source": [
    "# cal.date[cal.date == max(cal['date'])].index.tolist()\n",
    "cal['date'] = pd.to_datetime(cal['date'])\n",
    "cal['date'] = cal['date'].apply(lambda x: x.date())\n",
    "print(f\"The range of the calendar is from {min(cal['date'])} to {max(cal['date'])}.\")"
   ]
  },
  {
   "cell_type": "markdown",
   "id": "728a7b82",
   "metadata": {
    "id": "728a7b82"
   },
   "source": [
    "# Distribution of bookings by month"
   ]
  },
  {
   "cell_type": "code",
   "execution_count": 19,
   "id": "4f7264b7",
   "metadata": {
    "colab": {
     "base_uri": "https://localhost:8080/"
    },
    "executionInfo": {
     "elapsed": 3,
     "status": "ok",
     "timestamp": 1685323965278,
     "user": {
      "displayName": "Κωνσταντίνος Χρήστου",
      "userId": "14832950656728672898"
     },
     "user_tz": -180
    },
    "id": "4f7264b7",
    "outputId": "0a9d6693-2b57-45b8-f916-65c9be066703",
    "scrolled": true
   },
   "outputs": [
    {
     "name": "stdout",
     "output_type": "stream",
     "text": [
      "Are there any NaN data? -False.\n"
     ]
    },
    {
     "data": {
      "text/plain": [
       "array(['f', 't'], dtype=object)"
      ]
     },
     "execution_count": 19,
     "metadata": {},
     "output_type": "execute_result"
    }
   ],
   "source": [
    "print(f\"Are there any NaN data? -{cal['available'].isnull().values.any()}.\")\n",
    "if cal['available'].isnull().values.any()== True:\n",
    "    print(f\"In the avaliable column are {cal['available'].isnull().sum().sum()} NaN.\")\n",
    "cal['available'].unique()"
   ]
  },
  {
   "cell_type": "markdown",
   "id": "3a3c09ec",
   "metadata": {
    "id": "3a3c09ec"
   },
   "source": [
    "We made a new DF with dates and the availability of bookings. There are no NAN variables. Whether avaliable = 'f', means that the airbnb is booked."
   ]
  },
  {
   "cell_type": "code",
   "execution_count": 40,
   "id": "2922b122",
   "metadata": {
    "colab": {
     "base_uri": "https://localhost:8080/",
     "height": 449
    },
    "executionInfo": {
     "elapsed": 2986,
     "status": "ok",
     "timestamp": 1685323968262,
     "user": {
      "displayName": "Κωνσταντίνος Χρήστου",
      "userId": "14832950656728672898"
     },
     "user_tz": -180
    },
    "id": "2922b122",
    "outputId": "b4223763-e991-4638-d901-7b16afee25e1",
    "scrolled": true
   },
   "outputs": [
    {
     "data": {
      "text/plain": [
       "<AxesSubplot: xlabel='month', ylabel='count_bookings'>"
      ]
     },
     "execution_count": 40,
     "metadata": {},
     "output_type": "execute_result"
    },
    {
     "data": {
      "image/png": "[encoded data removed]",
      "text/plain": [
       "<Figure size 640x480 with 1 Axes>"
      ]
     },
     "metadata": {},
     "output_type": "display_data"
    }
   ],
   "source": [
    "# Create a DataFrame 'bookings' using the 'date' and 'available' columns from 'cal'\n",
    "bookings = pd.DataFrame(cal[['date', 'available']])\n",
    "\n",
    "# Filter the DataFrame to include only rows where 'available' is 'f' (not available)\n",
    "bookings = bookings[bookings['available'] == 'f']\n",
    "\n",
    "# Create a new DataFrame with the count of bookings per date\n",
    "bookings = pd.DataFrame(bookings['date'].value_counts())\n",
    "\n",
    "# Reset the index of the DataFrame and rename the columns\n",
    "bookings = bookings.reset_index()\n",
    "bookings.rename(columns={'index': 'Date', 'date': 'count_bookings'}, inplace=True)\n",
    "\n",
    "\n",
    "# Extract month and year information from the 'Date' column\n",
    "m = pd.DatetimeIndex(bookings[\"Date\"])\n",
    "bookings['month'] = m.month\n",
    "bookings['year'] = m.year\n",
    "\n",
    "# Define a function to assign seasons based on the month\n",
    "def get_season(month):\n",
    "    if month in [12, 1, 2]:\n",
    "        return 'Winter'\n",
    "    elif month in [3, 4, 5]:\n",
    "        return 'Spring'\n",
    "    elif month in [6, 7, 8]:\n",
    "        return 'Summer'\n",
    "    elif month in [9, 10, 11]:\n",
    "        return 'Autumn'\n",
    "\n",
    "# Apply the 'get_season' function to create a new 'season' column\n",
    "bookings['season'] = bookings['month'].apply(get_season)\n",
    "\n",
    "# Create a bar plot using seaborn to visualize the count of bookings per month, grouped by year\n",
    "sns.barplot(data=bookings, x='month', y='count_bookings', hue='year')"
   ]
  },
  {
   "cell_type": "code",
   "execution_count": 41,
   "id": "bad3a45a",
   "metadata": {
    "colab": {
     "base_uri": "https://localhost:8080/",
     "height": 449
    },
    "executionInfo": {
     "elapsed": 468,
     "status": "ok",
     "timestamp": 1685323968727,
     "user": {
      "displayName": "Κωνσταντίνος Χρήστου",
      "userId": "14832950656728672898"
     },
     "user_tz": -180
    },
    "id": "bad3a45a",
    "outputId": "fb3363cb-4802-4a28-9891-f7bf1141312b"
   },
   "outputs": [
    {
     "data": {
      "image/png": "[encoded data removed]",
      "text/plain": [
       "<Figure size 640x480 with 1 Axes>"
      ]
     },
     "metadata": {},
     "output_type": "display_data"
    }
   ],
   "source": [
    "sns.barplot(data=bookings, x='season', y='count_bookings',hue='year');"
   ]
  },
  {
   "cell_type": "markdown",
   "id": "d509652f",
   "metadata": {
    "id": "d509652f"
   },
   "source": [
    "To examine the distribution per month, in time series data, the box plot is a helpful tool."
   ]
  },
  {
   "cell_type": "code",
   "execution_count": 22,
   "id": "66c283a1",
   "metadata": {
    "colab": {
     "base_uri": "https://localhost:8080/",
     "height": 365
    },
    "executionInfo": {
     "elapsed": 880,
     "status": "ok",
     "timestamp": 1685323969604,
     "user": {
      "displayName": "Κωνσταντίνος Χρήστου",
      "userId": "14832950656728672898"
     },
     "user_tz": -180
    },
    "id": "66c283a1",
    "outputId": "67312161-6fb3-43e3-882b-7e81b01c4a61"
   },
   "outputs": [
    {
     "data": {
      "image/png": "[encoded data removed]",
      "text/plain": [
       "<Figure size 700x350 with 1 Axes>"
      ]
     },
     "metadata": {},
     "output_type": "display_data"
    }
   ],
   "source": [
    "fig,ax = plt.subplots(figsize=(7, 3.5))\n",
    "\n",
    "bookings.boxplot(column='count_bookings',by='month',ax=ax)\n",
    "bookings.groupby('month')[\"count_bookings\"].median().plot(style=\"o-\", linewidth=0.8, ax=ax)\n",
    "ax.set_ylabel(\"Bookings\")\n",
    "ax.set_title(\"Number of bookings per month\")\n",
    "fig.suptitle(\"\");"
   ]
  },
  {
   "cell_type": "code",
   "execution_count": 23,
   "id": "14c480bc",
   "metadata": {
    "colab": {
     "base_uri": "https://localhost:8080/",
     "height": 365
    },
    "executionInfo": {
     "elapsed": 865,
     "status": "ok",
     "timestamp": 1685323970467,
     "user": {
      "displayName": "Κωνσταντίνος Χρήστου",
      "userId": "14832950656728672898"
     },
     "user_tz": -180
    },
    "id": "14c480bc",
    "outputId": "9b057a98-f89d-474e-b032-29c234822c38",
    "scrolled": true
   },
   "outputs": [
    {
     "data": {
      "image/png": "[encoded data removed]",
      "text/plain": [
       "<Figure size 700x350 with 1 Axes>"
      ]
     },
     "metadata": {},
     "output_type": "display_data"
    }
   ],
   "source": [
    "fig,ax = plt.subplots(figsize=(7, 3.5))\n",
    "\n",
    "bookings.boxplot(column='count_bookings',by='season',ax=ax)\n",
    "bookings.groupby('season')[\"count_bookings\"].median().plot(style=\"o-\", linewidth=0.8, ax=ax)\n",
    "ax.set_ylabel(\"Bookings\")\n",
    "ax.set_title(\"Number of bookings per season\")\n",
    "fig.suptitle(\"\");"
   ]
  },
  {
   "cell_type": "markdown",
   "id": "14b678a2",
   "metadata": {
    "id": "14b678a2"
   },
   "source": [
    "# Time periods with the biggest percentage of bookings"
   ]
  },
  {
   "cell_type": "code",
   "execution_count": 24,
   "id": "cbb1738c",
   "metadata": {
    "colab": {
     "base_uri": "https://localhost:8080/",
     "height": 474
    },
    "executionInfo": {
     "elapsed": 254,
     "status": "ok",
     "timestamp": 1685324076622,
     "user": {
      "displayName": "Κωνσταντίνος Χρήστου",
      "userId": "14832950656728672898"
     },
     "user_tz": -180
    },
    "id": "cbb1738c",
    "outputId": "489cb80f-0b59-4358-c98a-c08a9a322e12",
    "scrolled": true
   },
   "outputs": [
    {
     "name": "stdout",
     "output_type": "stream",
     "text": [
      " The 10% of the bookings in our listings were at 2020-11.\n"
     ]
    },
    {
     "data": {
      "text/html": [
       "<div>\n",
       "<style scoped>\n",
       "    .dataframe tbody tr th:only-of-type {\n",
       "        vertical-align: middle;\n",
       "    }\n",
       "\n",
       "    .dataframe tbody tr th {\n",
       "        vertical-align: top;\n",
       "    }\n",
       "\n",
       "    .dataframe thead th {\n",
       "        text-align: right;\n",
       "    }\n",
       "</style>\n",
       "<table border=\"1\" class=\"dataframe\">\n",
       "  <thead>\n",
       "    <tr style=\"text-align: right;\">\n",
       "      <th></th>\n",
       "      <th>m/y</th>\n",
       "      <th>count_bookings</th>\n",
       "      <th>%</th>\n",
       "    </tr>\n",
       "  </thead>\n",
       "  <tbody>\n",
       "    <tr>\n",
       "      <th>1</th>\n",
       "      <td>2020-11</td>\n",
       "      <td>29697</td>\n",
       "      <td>10.402662</td>\n",
       "    </tr>\n",
       "    <tr>\n",
       "      <th>7</th>\n",
       "      <td>2021-05</td>\n",
       "      <td>25885</td>\n",
       "      <td>9.067344</td>\n",
       "    </tr>\n",
       "    <tr>\n",
       "      <th>10</th>\n",
       "      <td>2021-08</td>\n",
       "      <td>25489</td>\n",
       "      <td>8.928628</td>\n",
       "    </tr>\n",
       "    <tr>\n",
       "      <th>11</th>\n",
       "      <td>2021-09</td>\n",
       "      <td>24051</td>\n",
       "      <td>8.424906</td>\n",
       "    </tr>\n",
       "    <tr>\n",
       "      <th>8</th>\n",
       "      <td>2021-06</td>\n",
       "      <td>23616</td>\n",
       "      <td>8.272528</td>\n",
       "    </tr>\n",
       "    <tr>\n",
       "      <th>9</th>\n",
       "      <td>2021-07</td>\n",
       "      <td>23594</td>\n",
       "      <td>8.264822</td>\n",
       "    </tr>\n",
       "    <tr>\n",
       "      <th>2</th>\n",
       "      <td>2020-12</td>\n",
       "      <td>22772</td>\n",
       "      <td>7.976881</td>\n",
       "    </tr>\n",
       "    <tr>\n",
       "      <th>5</th>\n",
       "      <td>2021-03</td>\n",
       "      <td>20486</td>\n",
       "      <td>7.176110</td>\n",
       "    </tr>\n",
       "    <tr>\n",
       "      <th>6</th>\n",
       "      <td>2021-04</td>\n",
       "      <td>20448</td>\n",
       "      <td>7.162799</td>\n",
       "    </tr>\n",
       "    <tr>\n",
       "      <th>4</th>\n",
       "      <td>2021-02</td>\n",
       "      <td>19409</td>\n",
       "      <td>6.798844</td>\n",
       "    </tr>\n",
       "    <tr>\n",
       "      <th>12</th>\n",
       "      <td>2021-10</td>\n",
       "      <td>19395</td>\n",
       "      <td>6.793940</td>\n",
       "    </tr>\n",
       "    <tr>\n",
       "      <th>3</th>\n",
       "      <td>2021-01</td>\n",
       "      <td>19092</td>\n",
       "      <td>6.687801</td>\n",
       "    </tr>\n",
       "    <tr>\n",
       "      <th>0</th>\n",
       "      <td>2020-10</td>\n",
       "      <td>11541</td>\n",
       "      <td>4.042736</td>\n",
       "    </tr>\n",
       "  </tbody>\n",
       "</table>\n",
       "</div>"
      ],
      "text/plain": [
       "        m/y  count_bookings          %\n",
       "1   2020-11           29697  10.402662\n",
       "7   2021-05           25885   9.067344\n",
       "10  2021-08           25489   8.928628\n",
       "11  2021-09           24051   8.424906\n",
       "8   2021-06           23616   8.272528\n",
       "9   2021-07           23594   8.264822\n",
       "2   2020-12           22772   7.976881\n",
       "5   2021-03           20486   7.176110\n",
       "6   2021-04           20448   7.162799\n",
       "4   2021-02           19409   6.798844\n",
       "12  2021-10           19395   6.793940\n",
       "3   2021-01           19092   6.687801\n",
       "0   2020-10           11541   4.042736"
      ]
     },
     "execution_count": 24,
     "metadata": {},
     "output_type": "execute_result"
    }
   ],
   "source": [
    "a = pd.DataFrame(bookings[['month','year','count_bookings']])\n",
    "a = a.reset_index()\n",
    "a = a.groupby(['year', 'month'])['count_bookings'].sum()\n",
    "a = a.reset_index()\n",
    "\n",
    "a['m/y']=a['year'].astype(str) + a['month'].astype(str).str.zfill(2)\n",
    "a['m/y'] = pd.to_datetime(a['m/y'], format='%Y%m')\n",
    "a[\"m/y\"] =a[\"m/y\"].dt.strftime('%Y-%m') \n",
    "a['%'] = 100 * a['count_bookings'] / sum(a['count_bookings'])\n",
    "a =a[['m/y', 'count_bookings', '%']]\n",
    "print(f\" The {round(max(a['%']))}% of the bookings in our listings were at {a['m/y'].iloc[a['%'].idxmax()]}.\")\n",
    "a.sort_values(by=\"%\", ascending=False)"
   ]
  },
  {
   "cell_type": "markdown",
   "id": "1ed9c5be",
   "metadata": {
    "id": "1ed9c5be"
   },
   "source": [
    "# Higher prices"
   ]
  },
  {
   "cell_type": "code",
   "execution_count": 25,
   "id": "2ac2e134",
   "metadata": {
    "colab": {
     "base_uri": "https://localhost:8080/"
    },
    "executionInfo": {
     "elapsed": 1959,
     "status": "ok",
     "timestamp": 1685323972415,
     "user": {
      "displayName": "Κωνσταντίνος Χρήστου",
      "userId": "14832950656728672898"
     },
     "user_tz": -180
    },
    "id": "2ac2e134",
    "outputId": "b7c3ed65-7179-4a6c-eed6-0bc96efe01b0"
   },
   "outputs": [
    {
     "name": "stderr",
     "output_type": "stream",
     "text": [
      "C:\\Users\\siaza\\AppData\\Local\\Temp\\ipykernel_2916\\3617227614.py:3: FutureWarning: The default value of regex will change from True to False in a future version. In addition, single character regular expressions will *not* be treated as literal strings when regex=True.\n",
      "  cal['price'] = cal['price'].str.replace('$', '')\n"
     ]
    }
   ],
   "source": [
    "#Check for nan values and transform the prices in the right float form.\n",
    "cal['price'].isnull().values.any()\n",
    "cal['price'] = cal['price'].str.replace('$', '')\n",
    "cal['price'] = cal['price'].str.replace(',', '')\n",
    "cal['price'] = cal['price'].astype(float)"
   ]
  },
  {
   "cell_type": "code",
   "execution_count": 26,
   "id": "ee3dc4a4",
   "metadata": {
    "colab": {
     "base_uri": "https://localhost:8080/"
    },
    "executionInfo": {
     "elapsed": 410,
     "status": "ok",
     "timestamp": 1685323972823,
     "user": {
      "displayName": "Κωνσταντίνος Χρήστου",
      "userId": "14832950656728672898"
     },
     "user_tz": -180
    },
    "id": "ee3dc4a4",
    "outputId": "38748ec8-457a-46ee-d159-53112200f3f3"
   },
   "outputs": [
    {
     "name": "stdout",
     "output_type": "stream",
     "text": [
      "   season       price\n",
      "0  Summer  110.595770\n",
      "1  Autumn  103.348774\n",
      "2  Spring   98.356970\n",
      "3  Winter   82.857423\n",
      "The prices seems to be higher on Summer with mean price 111$.\n"
     ]
    },
    {
     "name": "stderr",
     "output_type": "stream",
     "text": [
      "C:\\Users\\siaza\\AppData\\Local\\Temp\\ipykernel_2916\\1541632589.py:22: FutureWarning: The default value of numeric_only in DataFrameGroupBy.mean is deprecated. In a future version, numeric_only will default to False. Either specify numeric_only or select only columns which should be valid for the function.\n",
      "  pseason = p.groupby(['season']).mean()\n"
     ]
    }
   ],
   "source": [
    "p = pd.DataFrame(cal[['date','price']])\n",
    "p = p.groupby(['date'])[\"price\"].mean()\n",
    "\n",
    "p = pd.DataFrame(p)  \n",
    "p = p.reset_index()\n",
    "m = pd.DatetimeIndex(p[\"date\"])\n",
    "p['month']= m.month\n",
    "p['year']=m.year\n",
    "\n",
    "#I have already called this function, but i recall it in case we want to run only specific cells..\n",
    "def get_season(month):\n",
    "    if month in [12, 1, 2]:\n",
    "        return 'Winter'\n",
    "    elif month in [3, 4, 5]:\n",
    "        return 'Spring'\n",
    "    elif month in [6, 7, 8]:\n",
    "        return 'Summer'\n",
    "    elif month in [9, 10, 11]:\n",
    "        return 'Autumn'\n",
    "\n",
    "p['season'] = p['month'].apply(get_season)\n",
    "pseason = p.groupby(['season']).mean()\n",
    "pseason = pseason.sort_values(by=\"price\", ascending=False)\n",
    "pseason = pseason.reset_index()\n",
    "pseason=pseason[['season','price']]\n",
    "print(pseason)\n",
    "print(f\"The prices seems to be higher on {pseason['season'].iloc[0]} with mean price {round(pseason['price'].iloc[0])}$.\");\n"
   ]
  },
  {
   "cell_type": "markdown",
   "id": "6b245741",
   "metadata": {
    "id": "6b245741"
   },
   "source": [
    "# Identified hosts"
   ]
  },
  {
   "cell_type": "code",
   "execution_count": 27,
   "id": "721f92c4",
   "metadata": {
    "colab": {
     "base_uri": "https://localhost:8080/"
    },
    "executionInfo": {
     "elapsed": 8,
     "status": "ok",
     "timestamp": 1685323972823,
     "user": {
      "displayName": "Κωνσταντίνος Χρήστου",
      "userId": "14832950656728672898"
     },
     "user_tz": -180
    },
    "id": "721f92c4",
    "outputId": "0c2fd3c9-172b-4024-ad59-2007f8663496",
    "scrolled": true
   },
   "outputs": [
    {
     "name": "stdout",
     "output_type": "stream",
     "text": [
      "Are there any NaN data? -True.\n",
      "In the host_identity_verified column are 4 NaN.\n"
     ]
    }
   ],
   "source": [
    "#Check for NaN samples in the host_identity_verified column\n",
    "print(f\"Are there any NaN data? -{df['host_identity_verified'].isnull().values.any()}.\")\n",
    "if df['host_identity_verified'].isnull().values.any()== True:\n",
    "    print(f\"In the host_identity_verified column are {df['host_identity_verified'].isnull().sum().sum()} NaN.\")\n"
   ]
  },
  {
   "cell_type": "markdown",
   "id": "f670c8ec",
   "metadata": {
    "id": "f670c8ec"
   },
   "source": [
    "Since the number of Nan variables is not statistical important according to all of the samples, we can simply drop nan rows or consider them as non identified hosts."
   ]
  },
  {
   "cell_type": "code",
   "execution_count": 28,
   "id": "127e58be",
   "metadata": {
    "colab": {
     "base_uri": "https://localhost:8080/"
    },
    "executionInfo": {
     "elapsed": 277,
     "status": "ok",
     "timestamp": 1685323973098,
     "user": {
      "displayName": "Κωνσταντίνος Χρήστου",
      "userId": "14832950656728672898"
     },
     "user_tz": -180
    },
    "id": "127e58be",
    "outputId": "4ca711d9-6b8c-4fc1-d67a-859f73173747"
   },
   "outputs": [
    {
     "name": "stdout",
     "output_type": "stream",
     "text": [
      "The number of identified hosts is 6262 and their percentage over all hosts is 66%.\n"
     ]
    }
   ],
   "source": [
    "# Extracting the 'host_identity_verified' column from the DataFrame and dropping any NaN values\n",
    "identity = df['host_identity_verified'].dropna()\n",
    "\n",
    "# Creating a new DataFrame using the extracted column\n",
    "identity = pd.DataFrame(identity)\n",
    "\n",
    "# Converting 't' values to 1 and 'f' values to 0 in the 'host_identity_verified' column\n",
    "identity['host_identity_verified'] = identity['host_identity_verified'].str.replace('t', '1')\n",
    "identity['host_identity_verified'] = identity['host_identity_verified'].str.replace('f', '0')\n",
    "\n",
    "# Converting the values in the 'host_identity_verified' column to integers\n",
    "identity['host_identity_verified'] = identity['host_identity_verified'].astype(int)\n",
    "\n",
    "# Counting the number of identified hosts by summing the 'host_identity_verified' column\n",
    "identified_hosts = sum(identity['host_identity_verified'])\n",
    "\n",
    "# Calculating the total number of hosts, including identified, non-identified, and NaN samples\n",
    "all_hosts = identity['host_identity_verified'].shape[0] + df['host_identity_verified'].isnull().sum().sum()\n",
    "\n",
    "# Printing the results\n",
    "print(f\"The number of identified hosts is {identified_hosts} and their percentage over all hosts is {round((identified_hosts/all_hosts)*100)}%.\")\n"
   ]
  },
  {
   "cell_type": "markdown",
   "id": "da1aa009",
   "metadata": {
    "id": "da1aa009"
   },
   "source": [
    "# Top 10 most common amenities"
   ]
  },
  {
   "cell_type": "markdown",
   "id": "5bba9f16",
   "metadata": {
    "id": "5bba9f16"
   },
   "source": [
    "We examined the column amenities and we realized that it is a column of strings no matter that each string has the form of a list. So, we call ast to convert to lists. After that, we Concatenate the dummy variables."
   ]
  },
  {
   "cell_type": "code",
   "execution_count": 29,
   "id": "ec0cfde1",
   "metadata": {
    "colab": {
     "base_uri": "https://localhost:8080/"
    },
    "executionInfo": {
     "elapsed": 2413,
     "status": "ok",
     "timestamp": 1685323975508,
     "user": {
      "displayName": "Κωνσταντίνος Χρήστου",
      "userId": "14832950656728672898"
     },
     "user_tz": -180
    },
    "id": "ec0cfde1",
    "outputId": "d8e02a2e-d562-49f1-96ef-cc6e33eadb35"
   },
   "outputs": [
    {
     "name": "stdout",
     "output_type": "stream",
     "text": [
      "The top 10 most common amenities are: Index(['Wifi', 'Essentials', 'Air conditioning', 'Hair dryer', 'Hangers',\n",
      "       'Kitchen', 'TV', 'Shampoo', 'Iron', 'Heating'],\n",
      "      dtype='object')\n"
     ]
    }
   ],
   "source": [
    "import ast\n",
    "from sklearn.preprocessing import MultiLabelBinarizer\n",
    "\n",
    "# Convert the 'amenities' column from string representation to a list of items\n",
    "df['lists_column'] = df['amenities'].apply(lambda x: ast.literal_eval(x))\n",
    "\n",
    "# Create a DataFrame 'amen' using the 'lists_column' column\n",
    "amen = pd.DataFrame(df['lists_column'])\n",
    "\n",
    "# Create an instance of MultiLabelBinarizer\n",
    "mlb = MultiLabelBinarizer()\n",
    "\n",
    "# Fit and transform the 'lists_column' into binary columns\n",
    "dummy_variables = pd.DataFrame(mlb.fit_transform(amen['lists_column']), columns=mlb.classes_)\n",
    "\n",
    "# Concatenate the dummy variables with the original DataFrame 'amen'\n",
    "amen = pd.concat([amen, dummy_variables], axis=1)\n",
    "\n",
    "# Remove the original 'lists_column' column\n",
    "amen.drop('lists_column', axis=1, inplace=True)\n",
    "\n",
    "# Calculate the column sums and find the 10 largest columns\n",
    "largest_columns = amen.sum().nlargest(10)\n",
    "largest_columns = pd.DataFrame(largest_columns)\n",
    "\n",
    "# Print the top 10 most common amenities\n",
    "print(f\"The top 10 most common amenities are: {largest_columns.index}\")\n",
    "\n",
    "# Alternatively, we can use the value_counts() method to get the counts of each amenity\n",
    "# amen.value_counts()\n"
   ]
  },
  {
   "cell_type": "markdown",
   "id": "02c27716",
   "metadata": {
    "id": "02c27716"
   },
   "source": [
    "# Top 10 rated listings"
   ]
  },
  {
   "cell_type": "code",
   "execution_count": 30,
   "id": "7eeb62c1",
   "metadata": {
    "colab": {
     "base_uri": "https://localhost:8080/"
    },
    "executionInfo": {
     "elapsed": 11,
     "status": "ok",
     "timestamp": 1685323975508,
     "user": {
      "displayName": "Κωνσταντίνος Χρήστου",
      "userId": "14832950656728672898"
     },
     "user_tz": -180
    },
    "id": "7eeb62c1",
    "outputId": "84c7e084-d76d-463c-8204-86a884c8fd63"
   },
   "outputs": [
    {
     "name": "stdout",
     "output_type": "stream",
     "text": [
      "Are there any NaN data? -True.\n",
      "In the review_scores_rating column are 2235 NaN.\n"
     ]
    }
   ],
   "source": [
    "reviews = df['review_scores_rating']\n",
    "#Check for NaN samples in the review_scores_rating\n",
    "print(f\"Are there any NaN data? -{df['review_scores_rating'].isnull().values.any()}.\")\n",
    "if df['review_scores_rating'].isnull().values.any()== True:\n",
    "    print(f\"In the review_scores_rating column are {df['review_scores_rating'].isnull().sum().sum()} NaN.\")\n",
    "    \n",
    "#The nan values are not a lot, we can either drop the nan data, in order to answer in this question or \n",
    "#just replace them with a mean rate value. In this specific case, NaN samples can be seen because for example \n",
    "#the host is new and no one has rated him yet."
   ]
  },
  {
   "cell_type": "code",
   "execution_count": 31,
   "id": "7051b3c7",
   "metadata": {
    "colab": {
     "base_uri": "https://localhost:8080/"
    },
    "executionInfo": {
     "elapsed": 6,
     "status": "ok",
     "timestamp": 1685323975509,
     "user": {
      "displayName": "Κωνσταντίνος Χρήστου",
      "userId": "14832950656728672898"
     },
     "user_tz": -180
    },
    "id": "7051b3c7",
    "outputId": "809001d2-e621-4d2a-87df-4709147f4ce0"
   },
   "outputs": [
    {
     "name": "stdout",
     "output_type": "stream",
     "text": [
      "Top 10 rated listings:       review_scores_rating          host_name  number_of_reviews\n",
      "42                   100.0               Agis                435\n",
      "1418                 100.0          Vassilios                384\n",
      "838                  100.0              Panos                282\n",
      "468                  100.0           Κaterina                281\n",
      "137                  100.0              Magda                263\n",
      "82                   100.0               Rich                236\n",
      "1444                 100.0              Kleio                234\n",
      "139                  100.0  Greece You Around                219\n",
      "1278                 100.0  Michaelis & Irene                209\n",
      "1626                 100.0          Ma Maison                209\n"
     ]
    }
   ],
   "source": [
    "reviews_mean = df['review_scores_rating'].mean()\n",
    "\n",
    "# Fill missing values in the 'review_scores_rating' column with the mean value\n",
    "df['review_scores_rating'].fillna(reviews_mean, inplace=True)\n",
    "\n",
    "# Count the number of remaining missing values in the 'review_scores_rating' column\n",
    "missing_values_count = df['review_scores_rating'].isna().sum()\n",
    "\n",
    "# Sort the DataFrame by the 'review_scores_rating' column in descending order\n",
    "# If ratings are the same, sort by 'number_of_reviews' column in descending order as well\n",
    "sorted_df = df.sort_values(by=['review_scores_rating', 'number_of_reviews'], ascending=[False, False])\n",
    "\n",
    "# Select the top 10 listings based on the highest ratings\n",
    "top_10_listings = sorted_df.loc[:, ['review_scores_rating', 'host_name', 'number_of_reviews']].head(10)\n",
    "\n",
    "# Print the top 10 rated listings with their review scores, host names, and number of reviews\n",
    "print(f\"Top 10 rated listings: {top_10_listings}\")\n",
    "\n",
    "# Alternatively, you can use the describe() method to get various statistics of the 'review_scores_rating' column\n",
    "# df['review_scores_rating'].describe()\n"
   ]
  },
  {
   "cell_type": "markdown",
   "id": "9eaac8c4",
   "metadata": {
    "id": "9eaac8c4"
   },
   "source": [
    "The nan values are not a lot, we can either drop the nan data, in order to answer in this question or just replace them with a mean rate value. In this specific case, NaN samples can be seen because for example the host is new and no one has rated him yet. So, the most logical action could be not to remove the whole row of our dataset, but to create a new specific series/DF with this column and without the Nan variables."
   ]
  },
  {
   "cell_type": "markdown",
   "id": "db83f755",
   "metadata": {
    "id": "db83f755"
   },
   "source": [
    "# Top-5 rated locations/neighborhoods"
   ]
  },
  {
   "cell_type": "markdown",
   "id": "7b20e043",
   "metadata": {
    "id": "7b20e043"
   },
   "source": [
    "Handling missing values and Getting the 5 top rated neighborhoods"
   ]
  },
  {
   "cell_type": "code",
   "execution_count": 32,
   "id": "c142690e",
   "metadata": {
    "colab": {
     "base_uri": "https://localhost:8080/"
    },
    "executionInfo": {
     "elapsed": 1419,
     "status": "ok",
     "timestamp": 1685323976925,
     "user": {
      "displayName": "Κωνσταντίνος Χρήστου",
      "userId": "14832950656728672898"
     },
     "user_tz": -180
    },
    "id": "c142690e",
    "outputId": "350ad4f8-2868-41a8-f833-5d10e764cfe5"
   },
   "outputs": [
    {
     "name": "stdout",
     "output_type": "stream",
     "text": [
      "Top 5 rated neighborhoods: neighbourhood_cleansed\n",
      "ΚΟΛΩΝΑΚΙ               9.876523\n",
      "ΚΟΥΚΑΚΙ-ΜΑΚΡΥΓΙΑΝΝΗ    9.856597\n",
      "ΡΗΓΙΛΛΗΣ               9.833954\n",
      "ΑΚΡΟΠΟΛΗ               9.807037\n",
      "ΘΗΣΕΙΟ                 9.802676\n",
      "Name: review_scores_location, dtype: float64\n"
     ]
    }
   ],
   "source": [
    "# Replace missing values in the 'review_scores_location' column with the mean value\n",
    "df['review_scores_location'] = df['review_scores_location'].apply(lambda x: df['review_scores_location'].mean() if np.isnan(x) else x)\n",
    "\n",
    "# Count the occurrences of each review score\n",
    "# review_mean.value_counts()\n",
    "\n",
    "# Calculate the average rating for each neighborhood based on the 'review_scores_location' column\n",
    "neighborhood_ratings = df.groupby('neighbourhood_cleansed')['review_scores_location'].mean()\n",
    "\n",
    "# Sort the neighborhoods by their average rating in descending order\n",
    "sorted_neighborhoods = neighborhood_ratings.sort_values(ascending=False)\n",
    "\n",
    "# Select the top 5 rated neighborhoods\n",
    "top_5_neighborhoods = sorted_neighborhoods.head(5)\n",
    "\n",
    "# Print the top 5 rated neighborhoods with their average ratings\n",
    "print(f\"Top 5 rated neighborhoods: {top_5_neighborhoods}\")\n",
    "\n",
    "\n",
    "\n"
   ]
  },
  {
   "cell_type": "markdown",
   "id": "c75e0b27",
   "metadata": {
    "id": "c75e0b27"
   },
   "source": [
    "# Time periods with most submitted reviews"
   ]
  },
  {
   "cell_type": "code",
   "execution_count": 33,
   "id": "cf934b1c",
   "metadata": {
    "colab": {
     "base_uri": "https://localhost:8080/"
    },
    "executionInfo": {
     "elapsed": 14,
     "status": "ok",
     "timestamp": 1685323976925,
     "user": {
      "displayName": "Κωνσταντίνος Χρήστου",
      "userId": "14832950656728672898"
     },
     "user_tz": -180
    },
    "id": "cf934b1c",
    "outputId": "18e0da25-08bb-4cdc-f45c-3a2c958e62f6"
   },
   "outputs": [
    {
     "name": "stdout",
     "output_type": "stream",
     "text": [
      "Most samples occurred from 2019-04-14 00:00:00 to 2020-10-11 00:00:00\n"
     ]
    }
   ],
   "source": [
    "# To answer this question, we consider the first and last reviews of each host and identify common periods.\n",
    "\n",
    "# Select the 'first_review' and 'last_review' columns from the DataFrame\n",
    "reviewsPeriod = df[['first_review', 'last_review']]\n",
    "\n",
    "# Create a new DataFrame using the selected columns\n",
    "reviewsPeriod = pd.DataFrame(reviewsPeriod)\n",
    "\n",
    "# Convert the 'first_review' and 'last_review' columns to datetime format\n",
    "reviewsPeriod['first_review'] = pd.to_datetime(reviewsPeriod['first_review'])\n",
    "reviewsPeriod['last_review'] = pd.to_datetime(reviewsPeriod['last_review'])\n",
    "\n",
    "# Find the most common first and last review dates\n",
    "most_samples_period = reviewsPeriod['first_review'].value_counts().idxmax(), reviewsPeriod['last_review'].value_counts().idxmax()\n",
    "\n",
    "# Print the period with the most samples\n",
    "print(\"Most samples occurred from\", most_samples_period[0], \"to\", most_samples_period[1])\n"
   ]
  },
  {
   "cell_type": "markdown",
   "id": "07e8471a",
   "metadata": {
    "id": "07e8471a"
   },
   "source": [
    "# Distribution of score ratings"
   ]
  },
  {
   "cell_type": "code",
   "execution_count": 34,
   "id": "82c7c3ff",
   "metadata": {
    "colab": {
     "base_uri": "https://localhost:8080/",
     "height": 663
    },
    "executionInfo": {
     "elapsed": 1280,
     "status": "ok",
     "timestamp": 1685323978193,
     "user": {
      "displayName": "Κωνσταντίνος Χρήστου",
      "userId": "14832950656728672898"
     },
     "user_tz": -180
    },
    "id": "82c7c3ff",
    "outputId": "a8746250-c29e-419c-cad1-3edddca684f2"
   },
   "outputs": [
    {
     "name": "stderr",
     "output_type": "stream",
     "text": [
      "c:\\users\\siaza\\appdata\\local\\programs\\python\\python39\\lib\\site-packages\\seaborn\\distributions.py:2551: FutureWarning: `distplot` is a deprecated function and will be removed in a future version. Please adapt your code to use either `displot` (a figure-level function with similar flexibility) or `histplot` (an axes-level function for histograms).\n",
      "  warnings.warn(msg, FutureWarning)\n",
      "c:\\users\\siaza\\appdata\\local\\programs\\python\\python39\\lib\\site-packages\\seaborn\\distributions.py:2055: FutureWarning: The `axis` variable is no longer used and will be removed. Instead, assign variables directly to `x` or `y`.\n",
      "  warnings.warn(msg, FutureWarning)\n"
     ]
    },
    {
     "data": {
      "image/png": "[encoded data removed]",
      "text/plain": [
       "<Figure size 640x480 with 1 Axes>"
      ]
     },
     "metadata": {},
     "output_type": "display_data"
    }
   ],
   "source": [
    "# Create a distribution plot\n",
    "\n",
    "# Select the 'review_scores_rating' column from the DataFrame\n",
    "reviews = df['review_scores_rating']\n",
    "\n",
    "# Create a DataFrame for the 'review_scores_rating' column\n",
    "reviews = pd.DataFrame(reviews)\n",
    "\n",
    "# Drop rows with NaN values in the 'review_scores_rating' column\n",
    "reviews = reviews.dropna(axis=0, how='all')\n",
    "\n",
    "# Calculate the interquartile range (IQR) of the 'review_scores_rating' column\n",
    "iqr = np.percentile(reviews['review_scores_rating'], 75) - np.percentile(reviews['review_scores_rating'], 25)\n",
    "\n",
    "# Calculate the bin width for the distribution plot\n",
    "bin_width = 2 * iqr / (len(reviews['review_scores_rating']) ** (1/3))\n",
    "\n",
    "# Calculate the number of bins based on the bin width\n",
    "num_bins = int((max(reviews['review_scores_rating']) - min(reviews['review_scores_rating'])) / bin_width)\n",
    "\n",
    "# Create a distribution plot using seaborn\n",
    "sns.distplot(reviews['review_scores_rating'], bins=num_bins, kde=False, rug=True)\n",
    "\n",
    "# Set the labels and title for the plot\n",
    "plt.xlabel('Percentage Rates')\n",
    "plt.ylabel('Frequency')\n",
    "plt.title('Distribution of Percentage Rates')\n",
    "\n",
    "# Display the plot\n",
    "plt.show()\n"
   ]
  },
  {
   "cell_type": "markdown",
   "id": "94f9e71a",
   "metadata": {
    "id": "94f9e71a"
   },
   "source": [
    "# Are there lots of reviews scoring < 50?"
   ]
  },
  {
   "cell_type": "code",
   "execution_count": 35,
   "id": "abd547d6",
   "metadata": {
    "colab": {
     "base_uri": "https://localhost:8080/"
    },
    "executionInfo": {
     "elapsed": 13,
     "status": "ok",
     "timestamp": 1685323978194,
     "user": {
      "displayName": "Κωνσταντίνος Χρήστου",
      "userId": "14832950656728672898"
     },
     "user_tz": -180
    },
    "id": "abd547d6",
    "outputId": "0f9fc485-0e1e-41fb-e7a0-cedd697ca3b3"
   },
   "outputs": [
    {
     "name": "stdout",
     "output_type": "stream",
     "text": [
      "Number of ratings below 50:31 \n",
      "Percentage of ratings below 50: 0.33%\n"
     ]
    }
   ],
   "source": [
    "# Count the number of ratings below 50\n",
    "low_ratings_count = df[df['review_scores_rating'] < 50]['review_scores_rating'].count()\n",
    "\n",
    "# Calculate the percentage of ratings below 50\n",
    "low_ratings_percentage = (low_ratings_count / len(df)) * 100\n",
    "\n",
    "# Print the count and percentage of low ratings\n",
    "print(f\"Number of ratings below 50:{low_ratings_count} \")\n",
    "print(\"Percentage of ratings below 50: {:.2f}%\".format(low_ratings_percentage))\n"
   ]
  },
  {
   "cell_type": "markdown",
   "id": "1a381766",
   "metadata": {
    "id": "1a381766"
   },
   "source": [
    "# Distribution of price for each room type"
   ]
  },
  {
   "cell_type": "code",
   "execution_count": 36,
   "id": "4efb9bd9",
   "metadata": {
    "colab": {
     "base_uri": "https://localhost:8080/",
     "height": 478
    },
    "executionInfo": {
     "elapsed": 847,
     "status": "ok",
     "timestamp": 1685323979036,
     "user": {
      "displayName": "Κωνσταντίνος Χρήστου",
      "userId": "14832950656728672898"
     },
     "user_tz": -180
    },
    "id": "4efb9bd9",
    "outputId": "1a15f661-4d9a-4f28-b220-0024721f4711"
   },
   "outputs": [
    {
     "data": {
      "image/png": "[encoded data removed]",
      "text/plain": [
       "<Figure size 640x480 with 1 Axes>"
      ]
     },
     "metadata": {},
     "output_type": "display_data"
    }
   ],
   "source": [
    "df['price'].head()\n",
    "df['price'].value_counts()\n",
    "# Remove the '$' symbol from the 'price' column\n",
    "df['price'] = df['price'].apply(lambda x: x.replace('$',''))\n",
    "\n",
    "# Convert the 'price' column to numeric\n",
    "df['price'] = pd.to_numeric(df['price'], errors='coerce')\n",
    "\n",
    "# Group the DataFrame by 'room_type' and calculate summary statistics\n",
    "price_per_room_type = df.groupby('room_type')['price'].describe()\n",
    "\n",
    "\n",
    "# Plot the distribution of prices for each room type\n",
    "df.boxplot(column='price', by='room_type', showfliers=False)\n",
    "\n",
    "# Set labels and title for the plot\n",
    "plt.xlabel('Room Type')\n",
    "plt.ylabel('Price')\n",
    "plt.title('Distribution of Prices for Each Room Type')\n",
    "\n",
    "# Show the plot\n",
    "plt.show()\n"
   ]
  },
  {
   "cell_type": "markdown",
   "id": "8ef4184a",
   "metadata": {
    "id": "8ef4184a"
   },
   "source": [
    "# Days of the week with the highest mean price"
   ]
  },
  {
   "cell_type": "code",
   "execution_count": 37,
   "id": "f0c79b40",
   "metadata": {
    "colab": {
     "base_uri": "https://localhost:8080/"
    },
    "executionInfo": {
     "elapsed": 423,
     "status": "ok",
     "timestamp": 1685323979446,
     "user": {
      "displayName": "Κωνσταντίνος Χρήστου",
      "userId": "14832950656728672898"
     },
     "user_tz": -180
    },
    "id": "f0c79b40",
    "outputId": "66ca4149-4210-4152-aeff-351915d5e96b"
   },
   "outputs": [
    {
     "name": "stdout",
     "output_type": "stream",
     "text": [
      "Days of the week with the highest mean prices:  day_of_week      price\n",
      "0      Sunday  59.592647\n",
      "1      Monday  59.542963\n",
      "2      Friday  58.446840\n",
      "3    Saturday  57.297539\n",
      "4   Wednesday  57.105655\n",
      "5    Thursday  56.055721\n",
      "6     Tuesday  55.299183\n"
     ]
    }
   ],
   "source": [
    "# # Convert the 'date' column to datetime format\n",
    "cal['date'] = pd.to_datetime(cal['date'])\n",
    "\n",
    "# # Extract the day of the week from the 'date' column (Monday=0, Sunday=6)\n",
    "cal['day_of_week'] = cal['date'].dt.dayofweek\n",
    "\n",
    "# Calculate the mean price for each day of the week\n",
    "mean_prices = df.groupby(cal['day_of_week'])['price'].mean()\n",
    "\n",
    "# Sort the days of the week by their mean prices in descending order\n",
    "sorted_days = mean_prices.sort_values(ascending=False)\n",
    "\n",
    "list1 ={'0':'Monday','1': 'Tuesday','2': 'Wednesday','3': 'Thursday','4':'Friday','5': 'Saturday','6':'Sunday'}\n",
    "\n",
    "sorted_days = pd.DataFrame(sorted_days)\n",
    "sorted_days = sorted_days.reset_index()\n",
    "sorted_days['day_of_week'] = sorted_days['day_of_week'].replace([0,1,2,3,4,5,6],['Monday', 'Tuesday', 'Wednesday',\n",
    "                                                                                \n",
    "                                                                                 'Thursday','Friday', 'Saturday', 'Sunday'])\n",
    "print(f\"Days of the week with the highest mean prices:{sorted_days}\")"
   ]
  },
  {
   "cell_type": "markdown",
   "id": "7b411c3f",
   "metadata": {
    "id": "7b411c3f"
   },
   "source": [
    "# Represent listings_ cleansed in numerical form\n"
   ]
  },
  {
   "cell_type": "markdown",
   "id": "e9e9372c",
   "metadata": {
    "id": "e9e9372c"
   },
   "source": [
    "We have already did this, when we examined the amenities. We rewrite the code below"
   ]
  },
  {
   "cell_type": "code",
   "execution_count": 38,
   "id": "3d0d444b",
   "metadata": {
    "colab": {
     "base_uri": "https://localhost:8080/",
     "height": 591
    },
    "executionInfo": {
     "elapsed": 2044,
     "status": "ok",
     "timestamp": 1685323981489,
     "user": {
      "displayName": "Κωνσταντίνος Χρήστου",
      "userId": "14832950656728672898"
     },
     "user_tz": -180
    },
    "id": "3d0d444b",
    "outputId": "11d2b890-0943-4362-cb8f-ab066a956ce5",
    "scrolled": true
   },
   "outputs": [
    {
     "data": {
      "text/html": [
       "<div>\n",
       "<style scoped>\n",
       "    .dataframe tbody tr th:only-of-type {\n",
       "        vertical-align: middle;\n",
       "    }\n",
       "\n",
       "    .dataframe tbody tr th {\n",
       "        vertical-align: top;\n",
       "    }\n",
       "\n",
       "    .dataframe thead th {\n",
       "        text-align: right;\n",
       "    }\n",
       "</style>\n",
       "<table border=\"1\" class=\"dataframe\">\n",
       "  <thead>\n",
       "    <tr style=\"text-align: right;\">\n",
       "      <th></th>\n",
       "      <th>2 hotplates electric stove</th>\n",
       "      <th>22\" HDTV</th>\n",
       "      <th>24\" HDTV with Netflix, Chromecast</th>\n",
       "      <th>32\" HDTV</th>\n",
       "      <th>32\" HDTV with Netflix</th>\n",
       "      <th>32\" TV</th>\n",
       "      <th>38\" HDTV with Netflix</th>\n",
       "      <th>40\" HDTV</th>\n",
       "      <th>40\" HDTV with Netflix</th>\n",
       "      <th>42\" HDTV with Netflix</th>\n",
       "      <th>...</th>\n",
       "      <th>Zealots of nature by Coco-mat conditioner</th>\n",
       "      <th>Zealots of nature by Coco-mat shampoo</th>\n",
       "      <th>duża lodówka refrigerator</th>\n",
       "      <th>intesit refrigerator</th>\n",
       "      <th>lenor conditioner</th>\n",
       "      <th>pitsos electric stove</th>\n",
       "      <th>pitsos oven</th>\n",
       "      <th>różne  body soap</th>\n",
       "      <th>różne  conditioner</th>\n",
       "      <th>Ηλεκτρικές εστίες induction stove</th>\n",
       "    </tr>\n",
       "  </thead>\n",
       "  <tbody>\n",
       "    <tr>\n",
       "      <th>0</th>\n",
       "      <td>0</td>\n",
       "      <td>0</td>\n",
       "      <td>0</td>\n",
       "      <td>0</td>\n",
       "      <td>0</td>\n",
       "      <td>0</td>\n",
       "      <td>0</td>\n",
       "      <td>0</td>\n",
       "      <td>0</td>\n",
       "      <td>0</td>\n",
       "      <td>...</td>\n",
       "      <td>0</td>\n",
       "      <td>0</td>\n",
       "      <td>0</td>\n",
       "      <td>0</td>\n",
       "      <td>0</td>\n",
       "      <td>0</td>\n",
       "      <td>0</td>\n",
       "      <td>0</td>\n",
       "      <td>0</td>\n",
       "      <td>0</td>\n",
       "    </tr>\n",
       "    <tr>\n",
       "      <th>1</th>\n",
       "      <td>0</td>\n",
       "      <td>0</td>\n",
       "      <td>0</td>\n",
       "      <td>0</td>\n",
       "      <td>0</td>\n",
       "      <td>0</td>\n",
       "      <td>0</td>\n",
       "      <td>0</td>\n",
       "      <td>0</td>\n",
       "      <td>0</td>\n",
       "      <td>...</td>\n",
       "      <td>0</td>\n",
       "      <td>0</td>\n",
       "      <td>0</td>\n",
       "      <td>0</td>\n",
       "      <td>0</td>\n",
       "      <td>0</td>\n",
       "      <td>0</td>\n",
       "      <td>0</td>\n",
       "      <td>0</td>\n",
       "      <td>0</td>\n",
       "    </tr>\n",
       "    <tr>\n",
       "      <th>2</th>\n",
       "      <td>0</td>\n",
       "      <td>0</td>\n",
       "      <td>0</td>\n",
       "      <td>0</td>\n",
       "      <td>0</td>\n",
       "      <td>0</td>\n",
       "      <td>0</td>\n",
       "      <td>0</td>\n",
       "      <td>0</td>\n",
       "      <td>0</td>\n",
       "      <td>...</td>\n",
       "      <td>0</td>\n",
       "      <td>0</td>\n",
       "      <td>0</td>\n",
       "      <td>0</td>\n",
       "      <td>0</td>\n",
       "      <td>0</td>\n",
       "      <td>0</td>\n",
       "      <td>0</td>\n",
       "      <td>0</td>\n",
       "      <td>0</td>\n",
       "    </tr>\n",
       "    <tr>\n",
       "      <th>3</th>\n",
       "      <td>0</td>\n",
       "      <td>0</td>\n",
       "      <td>0</td>\n",
       "      <td>0</td>\n",
       "      <td>0</td>\n",
       "      <td>0</td>\n",
       "      <td>0</td>\n",
       "      <td>0</td>\n",
       "      <td>0</td>\n",
       "      <td>0</td>\n",
       "      <td>...</td>\n",
       "      <td>0</td>\n",
       "      <td>0</td>\n",
       "      <td>0</td>\n",
       "      <td>0</td>\n",
       "      <td>0</td>\n",
       "      <td>0</td>\n",
       "      <td>0</td>\n",
       "      <td>0</td>\n",
       "      <td>0</td>\n",
       "      <td>0</td>\n",
       "    </tr>\n",
       "    <tr>\n",
       "      <th>4</th>\n",
       "      <td>0</td>\n",
       "      <td>0</td>\n",
       "      <td>0</td>\n",
       "      <td>0</td>\n",
       "      <td>0</td>\n",
       "      <td>0</td>\n",
       "      <td>0</td>\n",
       "      <td>0</td>\n",
       "      <td>0</td>\n",
       "      <td>0</td>\n",
       "      <td>...</td>\n",
       "      <td>0</td>\n",
       "      <td>0</td>\n",
       "      <td>0</td>\n",
       "      <td>0</td>\n",
       "      <td>0</td>\n",
       "      <td>0</td>\n",
       "      <td>0</td>\n",
       "      <td>0</td>\n",
       "      <td>0</td>\n",
       "      <td>0</td>\n",
       "    </tr>\n",
       "    <tr>\n",
       "      <th>...</th>\n",
       "      <td>...</td>\n",
       "      <td>...</td>\n",
       "      <td>...</td>\n",
       "      <td>...</td>\n",
       "      <td>...</td>\n",
       "      <td>...</td>\n",
       "      <td>...</td>\n",
       "      <td>...</td>\n",
       "      <td>...</td>\n",
       "      <td>...</td>\n",
       "      <td>...</td>\n",
       "      <td>...</td>\n",
       "      <td>...</td>\n",
       "      <td>...</td>\n",
       "      <td>...</td>\n",
       "      <td>...</td>\n",
       "      <td>...</td>\n",
       "      <td>...</td>\n",
       "      <td>...</td>\n",
       "      <td>...</td>\n",
       "      <td>...</td>\n",
       "    </tr>\n",
       "    <tr>\n",
       "      <th>9450</th>\n",
       "      <td>0</td>\n",
       "      <td>0</td>\n",
       "      <td>0</td>\n",
       "      <td>0</td>\n",
       "      <td>0</td>\n",
       "      <td>0</td>\n",
       "      <td>0</td>\n",
       "      <td>0</td>\n",
       "      <td>0</td>\n",
       "      <td>0</td>\n",
       "      <td>...</td>\n",
       "      <td>0</td>\n",
       "      <td>0</td>\n",
       "      <td>0</td>\n",
       "      <td>0</td>\n",
       "      <td>0</td>\n",
       "      <td>0</td>\n",
       "      <td>0</td>\n",
       "      <td>0</td>\n",
       "      <td>0</td>\n",
       "      <td>0</td>\n",
       "    </tr>\n",
       "    <tr>\n",
       "      <th>9451</th>\n",
       "      <td>0</td>\n",
       "      <td>0</td>\n",
       "      <td>0</td>\n",
       "      <td>0</td>\n",
       "      <td>0</td>\n",
       "      <td>0</td>\n",
       "      <td>0</td>\n",
       "      <td>0</td>\n",
       "      <td>0</td>\n",
       "      <td>0</td>\n",
       "      <td>...</td>\n",
       "      <td>0</td>\n",
       "      <td>0</td>\n",
       "      <td>0</td>\n",
       "      <td>0</td>\n",
       "      <td>0</td>\n",
       "      <td>0</td>\n",
       "      <td>0</td>\n",
       "      <td>0</td>\n",
       "      <td>0</td>\n",
       "      <td>0</td>\n",
       "    </tr>\n",
       "    <tr>\n",
       "      <th>9452</th>\n",
       "      <td>0</td>\n",
       "      <td>0</td>\n",
       "      <td>0</td>\n",
       "      <td>0</td>\n",
       "      <td>0</td>\n",
       "      <td>0</td>\n",
       "      <td>0</td>\n",
       "      <td>0</td>\n",
       "      <td>0</td>\n",
       "      <td>0</td>\n",
       "      <td>...</td>\n",
       "      <td>0</td>\n",
       "      <td>0</td>\n",
       "      <td>0</td>\n",
       "      <td>0</td>\n",
       "      <td>0</td>\n",
       "      <td>0</td>\n",
       "      <td>0</td>\n",
       "      <td>0</td>\n",
       "      <td>0</td>\n",
       "      <td>0</td>\n",
       "    </tr>\n",
       "    <tr>\n",
       "      <th>9453</th>\n",
       "      <td>0</td>\n",
       "      <td>0</td>\n",
       "      <td>0</td>\n",
       "      <td>0</td>\n",
       "      <td>0</td>\n",
       "      <td>0</td>\n",
       "      <td>0</td>\n",
       "      <td>0</td>\n",
       "      <td>0</td>\n",
       "      <td>0</td>\n",
       "      <td>...</td>\n",
       "      <td>0</td>\n",
       "      <td>0</td>\n",
       "      <td>0</td>\n",
       "      <td>0</td>\n",
       "      <td>0</td>\n",
       "      <td>0</td>\n",
       "      <td>0</td>\n",
       "      <td>0</td>\n",
       "      <td>0</td>\n",
       "      <td>0</td>\n",
       "    </tr>\n",
       "    <tr>\n",
       "      <th>9454</th>\n",
       "      <td>0</td>\n",
       "      <td>0</td>\n",
       "      <td>0</td>\n",
       "      <td>0</td>\n",
       "      <td>0</td>\n",
       "      <td>0</td>\n",
       "      <td>0</td>\n",
       "      <td>0</td>\n",
       "      <td>0</td>\n",
       "      <td>0</td>\n",
       "      <td>...</td>\n",
       "      <td>0</td>\n",
       "      <td>0</td>\n",
       "      <td>0</td>\n",
       "      <td>0</td>\n",
       "      <td>0</td>\n",
       "      <td>0</td>\n",
       "      <td>0</td>\n",
       "      <td>0</td>\n",
       "      <td>0</td>\n",
       "      <td>0</td>\n",
       "    </tr>\n",
       "  </tbody>\n",
       "</table>\n",
       "<p>9455 rows × 251 columns</p>\n",
       "</div>"
      ],
      "text/plain": [
       "      2 hotplates electric stove  22\" HDTV  24\" HDTV with Netflix, Chromecast  \\\n",
       "0                              0         0                                  0   \n",
       "1                              0         0                                  0   \n",
       "2                              0         0                                  0   \n",
       "3                              0         0                                  0   \n",
       "4                              0         0                                  0   \n",
       "...                          ...       ...                                ...   \n",
       "9450                           0         0                                  0   \n",
       "9451                           0         0                                  0   \n",
       "9452                           0         0                                  0   \n",
       "9453                           0         0                                  0   \n",
       "9454                           0         0                                  0   \n",
       "\n",
       "      32\" HDTV  32\" HDTV with Netflix  32\" TV  38\" HDTV with Netflix  \\\n",
       "0            0                      0       0                      0   \n",
       "1            0                      0       0                      0   \n",
       "2            0                      0       0                      0   \n",
       "3            0                      0       0                      0   \n",
       "4            0                      0       0                      0   \n",
       "...        ...                    ...     ...                    ...   \n",
       "9450         0                      0       0                      0   \n",
       "9451         0                      0       0                      0   \n",
       "9452         0                      0       0                      0   \n",
       "9453         0                      0       0                      0   \n",
       "9454         0                      0       0                      0   \n",
       "\n",
       "      40\" HDTV  40\" HDTV with Netflix  42\" HDTV with Netflix  ...  \\\n",
       "0            0                      0                      0  ...   \n",
       "1            0                      0                      0  ...   \n",
       "2            0                      0                      0  ...   \n",
       "3            0                      0                      0  ...   \n",
       "4            0                      0                      0  ...   \n",
       "...        ...                    ...                    ...  ...   \n",
       "9450         0                      0                      0  ...   \n",
       "9451         0                      0                      0  ...   \n",
       "9452         0                      0                      0  ...   \n",
       "9453         0                      0                      0  ...   \n",
       "9454         0                      0                      0  ...   \n",
       "\n",
       "      Zealots of nature by Coco-mat conditioner  \\\n",
       "0                                             0   \n",
       "1                                             0   \n",
       "2                                             0   \n",
       "3                                             0   \n",
       "4                                             0   \n",
       "...                                         ...   \n",
       "9450                                          0   \n",
       "9451                                          0   \n",
       "9452                                          0   \n",
       "9453                                          0   \n",
       "9454                                          0   \n",
       "\n",
       "      Zealots of nature by Coco-mat shampoo  duża lodówka refrigerator  \\\n",
       "0                                         0                          0   \n",
       "1                                         0                          0   \n",
       "2                                         0                          0   \n",
       "3                                         0                          0   \n",
       "4                                         0                          0   \n",
       "...                                     ...                        ...   \n",
       "9450                                      0                          0   \n",
       "9451                                      0                          0   \n",
       "9452                                      0                          0   \n",
       "9453                                      0                          0   \n",
       "9454                                      0                          0   \n",
       "\n",
       "      intesit refrigerator  lenor conditioner  pitsos electric stove  \\\n",
       "0                        0                  0                      0   \n",
       "1                        0                  0                      0   \n",
       "2                        0                  0                      0   \n",
       "3                        0                  0                      0   \n",
       "4                        0                  0                      0   \n",
       "...                    ...                ...                    ...   \n",
       "9450                     0                  0                      0   \n",
       "9451                     0                  0                      0   \n",
       "9452                     0                  0                      0   \n",
       "9453                     0                  0                      0   \n",
       "9454                     0                  0                      0   \n",
       "\n",
       "      pitsos oven  różne  body soap  różne  conditioner  \\\n",
       "0               0                 0                   0   \n",
       "1               0                 0                   0   \n",
       "2               0                 0                   0   \n",
       "3               0                 0                   0   \n",
       "4               0                 0                   0   \n",
       "...           ...               ...                 ...   \n",
       "9450            0                 0                   0   \n",
       "9451            0                 0                   0   \n",
       "9452            0                 0                   0   \n",
       "9453            0                 0                   0   \n",
       "9454            0                 0                   0   \n",
       "\n",
       "      Ηλεκτρικές εστίες induction stove  \n",
       "0                                     0  \n",
       "1                                     0  \n",
       "2                                     0  \n",
       "3                                     0  \n",
       "4                                     0  \n",
       "...                                 ...  \n",
       "9450                                  0  \n",
       "9451                                  0  \n",
       "9452                                  0  \n",
       "9453                                  0  \n",
       "9454                                  0  \n",
       "\n",
       "[9455 rows x 251 columns]"
      ]
     },
     "execution_count": 38,
     "metadata": {},
     "output_type": "execute_result"
    }
   ],
   "source": [
    "import ast\n",
    "from sklearn.preprocessing import MultiLabelBinarizer\n",
    "\n",
    "# Convert the 'amenities' column from string to list of items\n",
    "df['lists_column'] = df['amenities'].apply(lambda x: ast.literal_eval(x))\n",
    "\n",
    "# Create a DataFrame for the 'lists_column' column\n",
    "amen = pd.DataFrame(df['lists_column'])\n",
    "\n",
    "# Initialize the MultiLabelBinarizer\n",
    "mlb = MultiLabelBinarizer()\n",
    "\n",
    "# Fit and transform the 'lists_column' column into binary variables\n",
    "dummy_variables = pd.DataFrame(mlb.fit_transform(amen['lists_column']), columns=mlb.classes_)\n",
    "\n",
    "# Concatenate the dummy variables with the original DataFrame\n",
    "amen = pd.concat([amen, dummy_variables], axis=1)\n",
    "\n",
    "# Remove the original 'lists_column' column\n",
    "amen.drop('lists_column', axis=1, inplace=True)\n",
    "\n",
    "# Return the resulting DataFrame\n",
    "amen\n"
   ]
  },
  {
   "cell_type": "markdown",
   "id": "e6c8ccc9",
   "metadata": {},
   "source": [
    "# Session information"
   ]
  },
  {
   "cell_type": "code",
   "execution_count": 39,
   "id": "9be83d68",
   "metadata": {
    "executionInfo": {
     "elapsed": 9,
     "status": "ok",
     "timestamp": 1685323981490,
     "user": {
      "displayName": "Κωνσταντίνος Χρήστου",
      "userId": "14832950656728672898"
     },
     "user_tz": -180
    },
    "id": "9be83d68"
   },
   "outputs": [
    {
     "name": "stdout",
     "output_type": "stream",
     "text": [
      "-----\n",
      "matplotlib          3.6.2\n",
      "numpy               1.23.5\n",
      "pandas              1.5.3\n",
      "seaborn             0.11.0\n",
      "session_info        1.0.0\n",
      "sklearn             1.1.3\n",
      "-----\n",
      "IPython             8.7.0\n",
      "jupyter_client      7.4.8\n",
      "jupyter_core        5.1.0\n",
      "jupyterlab          3.5.1\n",
      "notebook            6.5.2\n",
      "-----\n",
      "Python 3.9.0 (tags/v3.9.0:9cf6752, Oct  5 2020, 15:34:40) [MSC v.1927 64 bit (AMD64)]\n",
      "Windows-10-10.0.22621-SP0\n",
      "-----\n",
      "Session information updated at 2023-05-29 21:08\n"
     ]
    }
   ],
   "source": [
    "import session_info\n",
    "session_info.show(html=False)"
   ]
  },
  {
   "cell_type": "code",
   "execution_count": null,
   "id": "7cbe2585",
   "metadata": {},
   "outputs": [],
   "source": []
  }
 ],
 "metadata": {
  "colab": {
   "provenance": []
  },
  "kernelspec": {
   "display_name": "Python 3 (ipykernel)",
   "language": "python",
   "name": "python3"
  },
  "language_info": {
   "codemirror_mode": {
    "name": "ipython",
    "version": 3
   },
   "file_extension": ".py",
   "mimetype": "text/x-python",
   "name": "python",
   "nbconvert_exporter": "python",
   "pygments_lexer": "ipython3",
   "version": "3.9.0"
  }
 },
 "nbformat": 4,
 "nbformat_minor": 5
}
